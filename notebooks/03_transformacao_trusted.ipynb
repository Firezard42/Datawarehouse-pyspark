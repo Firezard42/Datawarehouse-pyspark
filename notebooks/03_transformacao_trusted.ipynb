{
 "cells": [
  {
   "cell_type": "markdown",
   "id": "2bbecbfa-a25c-4508-9a18-8ac6a7fb3786",
   "metadata": {},
   "source": [
    "                                    TODOS IMPORT NECESSÁRIOS PARA RODAR PYSPARK + DELTA"
   ]
  },
  {
   "cell_type": "code",
   "execution_count": 1,
   "id": "f53d163d-cff3-4d16-9f63-3ad041bc3b5a",
   "metadata": {},
   "outputs": [],
   "source": [
    "import findspark\n",
    "findspark.init()"
   ]
  },
  {
   "cell_type": "markdown",
   "id": "51cb872d-3119-404f-a30c-557c52de84a8",
   "metadata": {},
   "source": [
    "- Define variáveis de ambiente do Hadoop (necessário no Windows).\n",
    "  O Spark precisa dessas variáveis para operar com arquivos e Delta Lake."
   ]
  },
  {
   "cell_type": "code",
   "execution_count": 2,
   "id": "f618f518-ceae-4bd6-80a4-b0c5fa366930",
   "metadata": {},
   "outputs": [],
   "source": [
    "import os\n",
    "os.environ[\"HADOOP_HOME\"] = \"C:\\\\hadoop\"\n",
    "os.environ[\"HADOOP_COMMON_HOME\"] = \"C:\\\\hadoop\"\n",
    "os.environ[\"HADOOP_HDFS_HOME\"] = \"C:\\\\hadoop\"\n",
    "os.environ[\"HADOOP_TMP_DIR\"] = \"C:\\\\hadoop\\\\tmp\"\n",
    "os.environ[\"PATH\"] = f\"{os.environ['PATH']};C:\\\\hadoop\\\\bin\""
   ]
  },
  {
   "cell_type": "code",
   "execution_count": 3,
   "id": "cddc5052-1359-49b2-bde8-70d4e3ee4bf2",
   "metadata": {},
   "outputs": [],
   "source": [
    "if not os.path.exists(\"C:\\\\hadoop\\\\tmp\"): #Cria a pasta temporária, se não existir, usada pelo Hadoop/Spark internamente\n",
    "    os.makedirs(\"C:\\\\hadoop\\\\tmp\")\n",
    "\n",
    "# Configurações essenciais para Windows\n",
    "os.environ[\"HADOOP_USER_NAME\"] = os.getlogin()  # Define o usuário atual do sistema como dono dos processos Hadoop"
   ]
  },
  {
   "cell_type": "code",
   "execution_count": 4,
   "id": "8a159f33-5920-4762-a0b7-6924729c1ab9",
   "metadata": {},
   "outputs": [],
   "source": [
    "from pyspark.sql import SparkSession\n",
    "from delta import configure_spark_with_delta_pip #Importa as bibliotecas necessárias para iniciar o Spark com suporte ao Delta Lake."
   ]
  },
  {
   "cell_type": "code",
   "execution_count": 5,
   "id": "09ce6de2-ee3c-4ccb-ab65-4f931bb272b7",
   "metadata": {},
   "outputs": [],
   "source": [
    "#Garante que bibliotecas JAR do Hadoop estejam disponíveis no classpath do Spark.\n",
    "from pyspark import SparkFiles\n",
    "spark_jars = \":\".join([\n",
    "    \"C:\\\\hadoop\\\\share\\\\hadoop\\\\common\\\\*.jar\",\n",
    "    \"C:\\\\hadoop\\\\share\\\\hadoop\\\\common\\\\lib\\\\*.jar\"\n",
    "])\n",
    "os.environ[\"SPARK_CLASSPATH\"] = spark_jars"
   ]
  },
  {
   "cell_type": "markdown",
   "id": "5011162f-d1c3-47e2-9c22-bf3c9a3bf904",
   "metadata": {},
   "source": [
    "                                CRIAÇÃO DE SESSÃO COM CONFIGURAÇÃO NECESSÁRIO PARA O FUNCIONANDO DO DELTA"
   ]
  },
  {
   "cell_type": "markdown",
   "id": "1577610a-2c09-4e5d-bd5c-cc7673335b70",
   "metadata": {},
   "source": [
    "Cria a sessão Spark com configurações específicas:\n",
    "\n",
    "Suporte ao Delta Lake.\n",
    "\n",
    "Aumenta a memória do driver (4g) para evitar travamentos.\n",
    "\n",
    "Define paths locais para logs, warehouse, HDFS etc."
   ]
  },
  {
   "cell_type": "code",
   "execution_count": 6,
   "id": "8334418d-e095-4ffa-a85f-237b10bc300d",
   "metadata": {},
   "outputs": [],
   "source": [
    "builder = SparkSession.builder \\\n",
    "    .appName('DW_transformacao') \\\n",
    "    .config(\"spark.sql.extensions\", \"io.delta.sql.DeltaSparkSessionExtension\") \\\n",
    "    .config(\"spark.sql.catalog.spark_catalog\", \"org.apache.spark.sql.delta.catalog.DeltaCatalog\") \\\n",
    "    .config(\"spark.hadoop.fs.file.impl\", \"org.apache.hadoop.fs.LocalFileSystem\") \\\n",
    "    .config(\"spark.driver.extraJavaOptions\", \"-Dio.netty.tryReflectionSetAccessible=true\") \\\n",
    "    .config(\"spark.sql.warehouse.dir\", \"file:///C:/temp/spark-warehouse\") \\\n",
    "    .config(\"spark.network.timeout\", \"600s\") \\\n",
    "    .config(\"spark.hadoop.fs.defaultFS\", \"file:///\") \\\n",
    "    .config(\"spark.delta.logStore.class\", \"org.apache.spark.sql.delta.storage.HDFSLogStore\")\\\n",
    "    .config(\"spark.driver.memory\", \"4g\")"
   ]
  },
  {
   "cell_type": "code",
   "execution_count": 7,
   "id": "d6b34cc0-2d14-44d5-9b5c-57e1502b298e",
   "metadata": {},
   "outputs": [],
   "source": [
    "spark = configure_spark_with_delta_pip(builder).getOrCreate() #Inicializa o Spark com Delta Lake usando o builder acima."
   ]
  },
  {
   "cell_type": "markdown",
   "id": "f0307311-5e6b-4233-9752-ea050e10c26b",
   "metadata": {},
   "source": [
    "                             CRIEI VÁRIOS DF USANDO OS ARQUIVOS DELTA QUE EU TINHA SALVADO NA ETAPA ANTERIOR"
   ]
  },
  {
   "cell_type": "code",
   "execution_count": 8,
   "id": "e7490502-eff4-4682-8892-d71e007d258b",
   "metadata": {},
   "outputs": [],
   "source": [
    "df_empresas = spark.read.format('delta').load(r'C:\\Users\\ResTIC16\\Documents\\IBGE_PROJETO\\datawarehouse_ibge\\data\\RAW\\empresas')\n",
    "df_municipios = spark.read.format('delta').load(r'C:\\Users\\ResTIC16\\Documents\\IBGE_PROJETO\\datawarehouse_ibge\\data\\RAW\\municipios')\n",
    "df_CNAE = spark.read.format('delta').load(r'C:\\Users\\ResTIC16\\Documents\\IBGE_PROJETO\\datawarehouse_ibge\\data\\RAW\\CNAE')\n",
    "df_natureza_juridica = spark.read.format('delta').load(r'C:\\Users\\ResTIC16\\Documents\\IBGE_PROJETO\\datawarehouse_ibge\\data\\RAW\\naturezas')\n",
    "df_simples_nacional = spark.read.format('delta').load(r'C:\\Users\\ResTIC16\\Documents\\IBGE_PROJETO\\datawarehouse_ibge\\data\\RAW\\simples')\n",
    "df_estabelecimentos = spark.read.format('delta').load(r'C:\\Users\\ResTIC16\\Documents\\IBGE_PROJETO\\datawarehouse_ibge\\data\\RAW\\estabelecimentos')"
   ]
  },
  {
   "cell_type": "code",
   "execution_count": 9,
   "id": "d7c23165-2cda-4c70-9cf6-0eecf0c065c4",
   "metadata": {},
   "outputs": [],
   "source": [
    "from pyspark.sql.functions import *  #IMPORTEI TODAS AS FUNCÕES DO PYSPARK PARA SER MAIS PRÁTICO"
   ]
  },
  {
   "cell_type": "markdown",
   "id": "acabd065-b3aa-4645-b020-505256e46203",
   "metadata": {},
   "source": [
    "                                                LIMPEZA DOS DADOS"
   ]
  },
  {
   "cell_type": "markdown",
   "id": "afc0d326-12b5-4ff3-a364-450691468cdd",
   "metadata": {},
   "source": [
    "- Filtra valores nulos ou inválidos nas principais colunas das empresas.\n",
    "- Garante que os dados são minimamente válidos antes dos joins."
   ]
  },
  {
   "cell_type": "code",
   "execution_count": 10,
   "id": "ab45f68a-3a13-4f9d-a209-40a70b351d8a",
   "metadata": {},
   "outputs": [],
   "source": [
    "df_empresas = df_empresas.filter(col(\"razao_social\").isNotNull() & (trim(col(\"razao_social\")) != \"\"))\n",
    "df_empresas = df_empresas.filter(length(col(\"cnpj_basico\")) >= 8)"
   ]
  },
  {
   "cell_type": "code",
   "execution_count": 11,
   "id": "cf2d2dc5-1bd5-4498-acf3-6767682a2504",
   "metadata": {},
   "outputs": [],
   "source": [
    "df_empresas = df_empresas.filter(\n",
    "    col(\"natureza_juridica\").isNotNull() & \n",
    "    col(\"qualificacao_responsavel\").isNotNull() & \n",
    "    col(\"porte_empresa\").isNotNull()\n",
    ")"
   ]
  },
  {
   "cell_type": "code",
   "execution_count": 12,
   "id": "4c22ad1a-b7c1-49ea-82f2-ab6a35ca8782",
   "metadata": {},
   "outputs": [],
   "source": [
    "df_municipios = df_municipios.filter(\n",
    "    col(\"codigo\").isNotNull() & \n",
    "    (trim(col(\"nome\")) != \"\")\n",
    ")"
   ]
  },
  {
   "cell_type": "code",
   "execution_count": 13,
   "id": "ed45192f-00b6-4693-8720-93734324e24f",
   "metadata": {},
   "outputs": [],
   "source": [
    "df_CNAE = df_CNAE.filter(\n",
    "    col(\"codigo\").isNotNull() & \n",
    "    (trim(col(\"descricao\")) != \"\")\n",
    ")"
   ]
  },
  {
   "cell_type": "code",
   "execution_count": 14,
   "id": "1e685830-8f33-48c3-ba43-a92123ea4400",
   "metadata": {},
   "outputs": [],
   "source": [
    "df_natureza_juridica = df_natureza_juridica.filter(\n",
    "    col(\"codigo\").isNotNull() & \n",
    "    (trim(col(\"descricao\")) != \"\")\n",
    ")"
   ]
  },
  {
   "cell_type": "code",
   "execution_count": 15,
   "id": "72d774d3-cbcd-4ce2-8f62-655dcf2f767d",
   "metadata": {},
   "outputs": [],
   "source": [
    "df_simples_nacional = df_simples_nacional.filter(col(\"cnpj_basico\").isNotNull())\n",
    "df_simples_nacional = df_simples_nacional.filter(col(\"opcao_simples\").isin(\"S\", \"N\"))"
   ]
  },
  {
   "cell_type": "markdown",
   "id": "1e905acf-d570-489e-a570-5ba1d309b94f",
   "metadata": {},
   "source": [
    "                                                JOINS E ENRIQUECIMENTOS"
   ]
  },
  {
   "cell_type": "markdown",
   "id": "b8720ec5-7f80-40a6-8fff-51d47f60f8ed",
   "metadata": {},
   "source": [
    "- Tabela de municipio e CNAE não tinha ligação direta com empresas, por isso foi necessário usar estabelecimentos para o join."
   ]
  },
  {
   "cell_type": "code",
   "execution_count": 16,
   "id": "59be996a-0291-4f16-b0e8-e5003a6666f5",
   "metadata": {},
   "outputs": [],
   "source": [
    "df_simples_nacional = df_simples_nacional.withColumnRenamed(\"cnpj_basico\", \"cnpj_1\")"
   ]
  },
  {
   "cell_type": "code",
   "execution_count": 17,
   "id": "f92fbec2-25c3-4b99-aa13-dcde2c5080b7",
   "metadata": {},
   "outputs": [],
   "source": [
    "municipios_2 = df_estabelecimentos.select(\n",
    "    col(\"municipio\").alias(\"municipio_id\"),\n",
    "    col(\"uf\").alias(\"uf\"),\n",
    "    col('cnpj_basico').alias('cnpj_estabelecimento')\n",
    ")"
   ]
  },
  {
   "cell_type": "code",
   "execution_count": 18,
   "id": "efd71450-14ff-49b7-9221-20f29a17d111",
   "metadata": {},
   "outputs": [],
   "source": [
    "df_municipios = df_municipios.join(municipios_2, df_municipios[\"codigo\"] == municipios_2[\"municipio_id\"], \"left\")\n",
    "df_municipios = df_municipios.withColumnRenamed(\"nome\", \"nome_municipio\")\n",
    "df_municipios = df_municipios.drop('codigo')"
   ]
  },
  {
   "cell_type": "code",
   "execution_count": 19,
   "id": "2a34ad08-498a-4f28-9dde-716facc05470",
   "metadata": {},
   "outputs": [],
   "source": [
    "cnae_principal = df_estabelecimentos.select(\n",
    "    col(\"cnae_fiscal_principal\").alias(\"cnae_fiscal\"),\n",
    "    col('cnpj_basico').alias('cnpj_cnae')\n",
    ")"
   ]
  },
  {
   "cell_type": "code",
   "execution_count": 20,
   "id": "4d6a1bd9-b2e9-498a-b8f7-0dcf6743f888",
   "metadata": {},
   "outputs": [],
   "source": [
    "df_CNAE = df_CNAE.join(cnae_principal, df_CNAE['codigo'] == cnae_principal['cnae_fiscal'], 'left')\n",
    "\n",
    "df_CNAE = df_CNAE.withColumnRenamed(\"codigo\", \"codigo_cnae\")\n",
    "\n",
    "df_CNAE = df_CNAE.withColumnRenamed(\"descricao\", \"descricao_cnae\")\n",
    "\n",
    "df_CNAE = df_CNAE.drop('cnae_fiscal')"
   ]
  },
  {
   "cell_type": "markdown",
   "id": "38759dd4-3827-4689-b73b-1d81f73bf56e",
   "metadata": {},
   "source": [
    "- Une todos os dados em um único dataframe.\n",
    "\n",
    "- df_empresas é a tabela fato.\n",
    "\n",
    "- As demais são dimensões que enriquecem os dados."
   ]
  },
  {
   "cell_type": "code",
   "execution_count": 21,
   "id": "a0da4e92-3884-41ae-be44-bab31b35b207",
   "metadata": {},
   "outputs": [],
   "source": [
    "df_trusted = df_empresas \\\n",
    "    .join(df_natureza_juridica, df_empresas[\"natureza_juridica\"] == df_natureza_juridica[\"codigo\"], \"left\") \\\n",
    "    .join(df_simples_nacional, df_empresas[\"cnpj_basico\"] == df_simples_nacional[\"cnpj_1\"], \"left\")\\\n",
    "    .join(df_municipios, df_empresas['cnpj_basico'] == df_municipios['cnpj_estabelecimento'], \"left\")\\\n",
    "    .join(df_CNAE, df_empresas['cnpj_basico'] == df_CNAE['cnpj_cnae'], 'left')\n",
    "\n",
    "df_trusted = df_trusted.drop('cnpj_1')\n",
    "df_trusted = df_trusted.drop('cnpj_estabelecimento')\n",
    "df_trusted = df_trusted.drop('cnpj_cnae')"
   ]
  },
  {
   "cell_type": "code",
   "execution_count": 22,
   "id": "093e6e45-5080-4f16-8b5a-782956e663e0",
   "metadata": {},
   "outputs": [],
   "source": [
    "df_trusted = df_trusted.drop('ente_federativo_responsavel') #REMOÇÃO DE COLUNA NULL"
   ]
  },
  {
   "cell_type": "code",
   "execution_count": 23,
   "id": "f722c38e-0506-4cd8-84ab-cb38c5464d93",
   "metadata": {},
   "outputs": [
    {
     "name": "stdout",
     "output_type": "stream",
     "text": [
      "+-----------+--------------------+-----------------+------------------------+--------------+-------------+------+--------------------+-------------+------------------+---------------------+---------+--------------+-----------------+--------------+------------+----+-----------+--------------------+\n",
      "|cnpj_basico|        razao_social|natureza_juridica|qualificacao_responsavel|capital_social|porte_empresa|codigo|           descricao|opcao_simples|data_opcao_simples|data_exclusao_simples|opcao_mei|data_opcao_mei|data_exclusao_mei|nome_municipio|municipio_id|  uf|codigo_cnae|      descricao_cnae|\n",
      "+-----------+--------------------+-----------------+------------------------+--------------+-------------+------+--------------------+-------------+------------------+---------------------+---------+--------------+-----------------+--------------+------------+----+-----------+--------------------+\n",
      "|   04631971|  2001 HANDLING LTDA|             2240|                      49|          0,00|           01|  2240|Sociedade Simples...|         NULL|              NULL|                 NULL|     NULL|          NULL|             NULL|          NULL|        NULL|NULL|       NULL|                NULL|\n",
      "|   04631972|GONCALVES E VIANA...|             2062|                      49|          0,00|           01|  2062|Sociedade Empresá...|            N|          20100101|             20151231|        N|      00000000|         00000000|          NULL|        NULL|NULL|       NULL|                NULL|\n",
      "|   05436877|CIRCOLO CONSTRUTO...|             2062|                      49|    3200000,00|           05|  2062|Sociedade Empresá...|         NULL|              NULL|                 NULL|     NULL|          NULL|             NULL|          NULL|        NULL|NULL|       NULL|                NULL|\n",
      "|   05436887|GROS ENGENHARIA LTDA|             2062|                      05|   67101364,00|           05|  2062|Sociedade Empresá...|         NULL|              NULL|                 NULL|     NULL|          NULL|             NULL|     SAO PAULO|        7107|  SP|    4391600|  Obras de fundações|\n",
      "|   05837386|ARNHOLD AND S BLE...|             3212|                      43|          0,00|           05|  3212|Fundação ou Assoc...|         NULL|              NULL|                 NULL|     NULL|          NULL|             NULL|          NULL|        NULL|NULL|       NULL|                NULL|\n",
      "|   05837392|AVALON WORLDWIDE ...|             3212|                      43|          0,00|           05|  3212|Fundação ou Assoc...|         NULL|              NULL|                 NULL|     NULL|          NULL|             NULL|          NULL|        NULL|NULL|       NULL|                NULL|\n",
      "|   05837394|RIVERSOURCE INTER...|             3212|                      43|          0,00|           05|  3212|Fundação ou Assoc...|         NULL|              NULL|                 NULL|     NULL|          NULL|             NULL|          NULL|        NULL|NULL|       NULL|                NULL|\n",
      "|   06244964|ABEE - REPRESENTA...|             2062|                      49|       3000,00|           01|  2062|Sociedade Empresá...|         NULL|              NULL|                 NULL|     NULL|          NULL|             NULL|          NULL|        NULL|NULL|       NULL|                NULL|\n",
      "|   06609199|ELEICOES 2004 - O...|             4090|                      51|          0,00|           05|  4090|Candidato a Cargo...|         NULL|              NULL|                 NULL|     NULL|          NULL|             NULL|          NULL|        NULL|NULL|       NULL|                NULL|\n",
      "|   06609202|ELEICOES 2004 - C...|             4090|                      51|          0,00|           05|  4090|Candidato a Cargo...|         NULL|              NULL|                 NULL|     NULL|          NULL|             NULL| VOLTA REDONDA|        5925|  RJ|    9492800|Atividades de org...|\n",
      "|   06609204|ELEICOES 2004 - V...|             4090|                      51|          0,00|           05|  4090|Candidato a Cargo...|         NULL|              NULL|                 NULL|     NULL|          NULL|             NULL|          NULL|        NULL|NULL|       NULL|                NULL|\n",
      "|   06609206|ELEICOES 2004 - J...|             4090|                      51|          0,00|           05|  4090|Candidato a Cargo...|         NULL|              NULL|                 NULL|     NULL|          NULL|             NULL|          NULL|        NULL|NULL|       NULL|                NULL|\n",
      "|   06942200|MARCELO E JOAQUIM...|             2062|                      49|          0,00|           01|  2062|Sociedade Empresá...|         NULL|              NULL|                 NULL|     NULL|          NULL|             NULL|          NULL|        NULL|NULL|       NULL|                NULL|\n",
      "|   07338696|V A VERNI & LIMA ...|             2062|                      49|       5000,00|           01|  2062|Sociedade Empresá...|            N|          20070701|             20240718|        N|      00000000|         00000000|          NULL|        NULL|NULL|       NULL|                NULL|\n",
      "|   07338697|07.338.697 MICHEL...|             2135|                      50|          0,00|           01|  2135|Empresário (Indiv...|            S|          20070701|             00000000|        S|      20250101|         00000000|          NULL|        NULL|NULL|       NULL|                NULL|\n",
      "|   07732971|FORUM DO AUDIOVIS...|             3999|                      05|          0,00|           05|  3999|  Associação Privada|         NULL|              NULL|                 NULL|     NULL|          NULL|             NULL|          NULL|        NULL|NULL|       NULL|                NULL|\n",
      "|   07732972|  ART IMPRESSAO LTDA|             2062|                      49|      93700,00|           01|  2062|Sociedade Empresá...|            S|          20070701|             00000000|        N|      00000000|         00000000|          NULL|        NULL|NULL|       NULL|                NULL|\n",
      "|   07732973|LAR DO IDOSO DONA...|             3999|                      16|          0,00|           05|  3999|  Associação Privada|         NULL|              NULL|                 NULL|     NULL|          NULL|             NULL|          NULL|        NULL|NULL|       NULL|                NULL|\n",
      "|   07732976|GIOVANA C. DE SOU...|             2135|                      50|      10000,00|           01|  2135|Empresário (Indiv...|            S|          20070701|             00000000|        N|      00000000|         00000000|          NULL|        NULL|NULL|       NULL|                NULL|\n",
      "|   08127263|ELEICAO 2006 ISRA...|             4090|                      51|          0,00|           05|  4090|Candidato a Cargo...|         NULL|              NULL|                 NULL|     NULL|          NULL|             NULL|          NULL|        NULL|NULL|       NULL|                NULL|\n",
      "+-----------+--------------------+-----------------+------------------------+--------------+-------------+------+--------------------+-------------+------------------+---------------------+---------+--------------+-----------------+--------------+------------+----+-----------+--------------------+\n",
      "only showing top 20 rows\n"
     ]
    }
   ],
   "source": [
    "df_trusted.show()"
   ]
  },
  {
   "cell_type": "markdown",
   "id": "97b5fd30-f5cf-486e-b00b-00fab1c22741",
   "metadata": {},
   "source": [
    "                                                    SALVANDO O TRUSTED"
   ]
  },
  {
   "cell_type": "code",
   "execution_count": 24,
   "id": "13c19e1e-23fc-44d1-98d0-cf2c9d1a8b04",
   "metadata": {},
   "outputs": [],
   "source": [
    "df_trusted.limit(5000).write.format(\"delta\") \\\n",
    "    .mode(\"overwrite\") \\\n",
    "    .save(r\"C:\\Users\\ResTIC16\\Documents\\IBGE_PROJETO\\datawarehouse_ibge\\data\\TRS\\empresas2\")"
   ]
  },
  {
   "cell_type": "code",
   "execution_count": null,
   "id": "b819406c-ec80-4414-b207-44cf8e053642",
   "metadata": {},
   "outputs": [],
   "source": []
  }
 ],
 "metadata": {
  "kernelspec": {
   "display_name": "Python 3 (ipykernel)",
   "language": "python",
   "name": "python3"
  },
  "language_info": {
   "codemirror_mode": {
    "name": "ipython",
    "version": 3
   },
   "file_extension": ".py",
   "mimetype": "text/x-python",
   "name": "python",
   "nbconvert_exporter": "python",
   "pygments_lexer": "ipython3",
   "version": "3.10.11"
  }
 },
 "nbformat": 4,
 "nbformat_minor": 5
}
