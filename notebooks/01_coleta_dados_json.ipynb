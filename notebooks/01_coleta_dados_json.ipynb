{
 "cells": [
  {
   "cell_type": "code",
   "execution_count": 1,
   "id": "b7e02595-78cc-489a-8b28-ee1c2a243e29",
   "metadata": {},
   "outputs": [],
   "source": [
    "import requests\n",
    "import os\n",
    "import json\n",
    "from datetime import datetime"
   ]
  },
  {
   "cell_type": "code",
   "execution_count": 2,
   "id": "59f91580-c2a4-465c-bd51-69713e2cb9f5",
   "metadata": {},
   "outputs": [],
   "source": [
    "url = 'https://servicodados.ibge.gov.br/api/v1/localidades/municipios'"
   ]
  },
  {
   "cell_type": "code",
   "execution_count": null,
   "id": "2db7f2a5-898c-4492-97a5-cfad9f724071",
   "metadata": {},
   "outputs": [],
   "source": [
    "data_hoje = datetime.now().strftime('%y-%m-%d')\n",
    "pasta = r\"C:\\Users\\ResTIC16\\Documents\\IBGE_PROJETO\\datawarehouse_ibge\\data\\LND\"\n",
    "arquivo_saida = f'{pasta}\\municipio_completo_{data_hoje}.json'"
   ]
  },
  {
   "cell_type": "code",
   "execution_count": 4,
   "id": "7adeb61c-7ad5-4439-b4ce-0ff39ce7c9b9",
   "metadata": {},
   "outputs": [],
   "source": [
    "os.makedirs(pasta,exist_ok=True)"
   ]
  },
  {
   "cell_type": "code",
   "execution_count": 5,
   "id": "66659fc1-f773-4a00-b789-409ce77f260b",
   "metadata": {},
   "outputs": [],
   "source": [
    "try:\n",
    "    response = requests.get(url)\n",
    "    if response.status_code != 200:\n",
    "        raise Exception(f'Falha na requisição {response.status_code}')\n",
    "    else:\n",
    "        dados = response.json()\n",
    "except Exception as erro:\n",
    "    print(f'Ocorreu o erro:{erro}')"
   ]
  },
  {
   "cell_type": "code",
   "execution_count": 6,
   "id": "5dfd0af9-ce22-4730-83c3-7cab616e0327",
   "metadata": {},
   "outputs": [
    {
     "name": "stdout",
     "output_type": "stream",
     "text": [
      "Arquivo salvo em C:\\Users\\ResTIC16\\Documents\\IBGE_PROJETO\\datawarehouse_ibge\\data\\LND\\municipio_completo_25-07-17.json\n"
     ]
    }
   ],
   "source": [
    "with open (arquivo_saida,'w',encoding = 'UTF-8') as f:\n",
    "    json.dump(dados,f,ensure_ascii = False, indent= 2)\n",
    "print (f'Arquivo salvo em {arquivo_saida}')"
   ]
  },
  {
   "cell_type": "code",
   "execution_count": null,
   "id": "0b5b99f2-d793-4893-97b3-293dd0147928",
   "metadata": {},
   "outputs": [],
   "source": []
  }
 ],
 "metadata": {
  "kernelspec": {
   "display_name": "Python 3 (ipykernel)",
   "language": "python",
   "name": "python3"
  },
  "language_info": {
   "codemirror_mode": {
    "name": "ipython",
    "version": 3
   },
   "file_extension": ".py",
   "mimetype": "text/x-python",
   "name": "python",
   "nbconvert_exporter": "python",
   "pygments_lexer": "ipython3",
   "version": "3.10.11"
  }
 },
 "nbformat": 4,
 "nbformat_minor": 5
}
