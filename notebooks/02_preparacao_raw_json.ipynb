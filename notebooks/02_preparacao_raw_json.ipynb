{
 "cells": [
  {
   "cell_type": "code",
   "execution_count": 7,
   "id": "e3c4f3e2-50f2-4ff0-8bae-ae90318a455c",
   "metadata": {},
   "outputs": [],
   "source": [
    "import os\n",
    "os.environ[\"HADOOP_HOME\"] = \"C:\\\\hadoop\""
   ]
  },
  {
   "cell_type": "code",
   "execution_count": 8,
   "id": "04889412-cf2e-4243-8510-470049981612",
   "metadata": {},
   "outputs": [],
   "source": [
    "from pyspark.sql import SparkSession\n",
    "from delta import configure_spark_with_delta_pip"
   ]
  },
  {
   "cell_type": "code",
   "execution_count": 9,
   "id": "a9bfad42-fbd2-4dc8-a8e8-34d8837838fa",
   "metadata": {},
   "outputs": [],
   "source": [
    "from pyspark.sql.types import *"
   ]
  },
  {
   "cell_type": "code",
   "execution_count": 10,
   "id": "a5891c5c-4c90-446b-89e9-a32d0c09bcbc",
   "metadata": {},
   "outputs": [],
   "source": [
    "session = SparkSession.builder\\\n",
    "    .appName('DW_municipio_completo')\\\n",
    "    .config(\"spark.sql.extensions\", \"io.delta.sql.DeltaSparkSessionExtension\") \\\n",
    "    .config(\"spark.sql.catalog.spark_catalog\", \"org.apache.spark.sql.delta.catalog.DeltaCatalog\")"
   ]
  },
  {
   "cell_type": "code",
   "execution_count": 11,
   "id": "94fddd13-180d-404f-bc7d-c3309e1d7145",
   "metadata": {},
   "outputs": [],
   "source": [
    "spark = configure_spark_with_delta_pip(session).getOrCreate()"
   ]
  },
  {
   "cell_type": "code",
   "execution_count": 12,
   "id": "cdcea3ef-26fd-477b-9a8c-a0902686c5f4",
   "metadata": {},
   "outputs": [],
   "source": [
    "schema = StructType([\n",
    "    StructField(\"id\", LongType(), nullable=True),\n",
    "    StructField(\"nome\", StringType(), nullable=True),\n",
    "    StructField(\"microrregiao\", StructType([\n",
    "        StructField(\"id\", LongType(), nullable=True),\n",
    "        StructField(\"nome\", StringType(), nullable=True),\n",
    "        StructField(\"mesorregiao\", StructType([\n",
    "            StructField(\"id\", LongType(), nullable=True),\n",
    "            StructField(\"nome\", StringType(), nullable=True),\n",
    "            StructField(\"UF\", StructType([\n",
    "                StructField(\"id\", LongType(), nullable=True),\n",
    "                StructField(\"sigla\", StringType(), nullable=True),\n",
    "                StructField(\"nome\", StringType(), nullable=True),\n",
    "                StructField(\"regiao\", StructType([\n",
    "                    StructField(\"id\", LongType(), nullable=True),\n",
    "                    StructField(\"nome\", StringType(), nullable=True),\n",
    "                    StructField(\"sigla\", StringType(), nullable=True)\n",
    "                ]), nullable=True)\n",
    "            ]), nullable=True)\n",
    "        ]), nullable=True)\n",
    "    ]), nullable=True),\n",
    "    StructField(\"regiao-imediata\", StructType([\n",
    "        StructField(\"id\", LongType(), nullable=True),\n",
    "        StructField(\"nome\", StringType(), nullable=True),\n",
    "        StructField(\"regiao-intermediaria\", StructType([\n",
    "            StructField(\"id\", LongType(), nullable=True),\n",
    "            StructField(\"nome\", StringType(), nullable=True),\n",
    "            StructField(\"UF\", StructType([\n",
    "                StructField(\"id\", LongType(), nullable=True),\n",
    "                StructField(\"sigla\", StringType(), nullable=True),\n",
    "                StructField(\"nome\", StringType(), nullable=True),\n",
    "                StructField(\"regiao\", StructType([\n",
    "                    StructField(\"id\", LongType(), nullable=True),\n",
    "                    StructField(\"nome\", StringType(), nullable=True),\n",
    "                    StructField(\"sigla\", StringType(), nullable=True)\n",
    "                ]), nullable=True)\n",
    "            ]), nullable=True)\n",
    "        ]), nullable=True)\n",
    "    ]), nullable=True)\n",
    "])"
   ]
  },
  {
   "cell_type": "code",
   "execution_count": 13,
   "id": "f6ad217a-4d7f-4236-85de-b1b944456e5e",
   "metadata": {},
   "outputs": [],
   "source": [
    "json_path = r'C:\\Users\\ResTIC16\\Documents\\IBGE_PROJETO\\datawarehouse_ibge\\data\\LND\\municipio_completo\\municipio_completo_25-07-17.json'\n",
    "df = spark.read \\\n",
    "    .option(\"multiline\", \"true\") \\\n",
    "    .json(json_path, schema=schema)"
   ]
  },
  {
   "cell_type": "code",
   "execution_count": 14,
   "id": "151a6728-5d70-411c-807b-e3f013a56047",
   "metadata": {},
   "outputs": [
    {
     "name": "stdout",
     "output_type": "stream",
     "text": [
      "+-------+------------------------+----------------------------------------------------------------------------------------+-----------------------------------------------------------------------------+\n",
      "|id     |nome                    |microrregiao                                                                            |regiao-imediata                                                              |\n",
      "+-------+------------------------+----------------------------------------------------------------------------------------+-----------------------------------------------------------------------------+\n",
      "|1100015|Alta Floresta D'Oeste   |{11006, Cacoal, {1102, Leste Rondoniense, {11, RO, Rondônia, {1, Norte, N}}}}           |{110005, Cacoal, {1102, Ji-Paraná, {11, RO, Rondônia, {1, Norte, N}}}}       |\n",
      "|1100023|Ariquemes               |{11003, Ariquemes, {1102, Leste Rondoniense, {11, RO, Rondônia, {1, Norte, N}}}}        |{110002, Ariquemes, {1101, Porto Velho, {11, RO, Rondônia, {1, Norte, N}}}}  |\n",
      "|1100031|Cabixi                  |{11008, Colorado do Oeste, {1102, Leste Rondoniense, {11, RO, Rondônia, {1, Norte, N}}}}|{110006, Vilhena, {1102, Ji-Paraná, {11, RO, Rondônia, {1, Norte, N}}}}      |\n",
      "|1100049|Cacoal                  |{11006, Cacoal, {1102, Leste Rondoniense, {11, RO, Rondônia, {1, Norte, N}}}}           |{110005, Cacoal, {1102, Ji-Paraná, {11, RO, Rondônia, {1, Norte, N}}}}       |\n",
      "|1100056|Cerejeiras              |{11008, Colorado do Oeste, {1102, Leste Rondoniense, {11, RO, Rondônia, {1, Norte, N}}}}|{110006, Vilhena, {1102, Ji-Paraná, {11, RO, Rondônia, {1, Norte, N}}}}      |\n",
      "|1100064|Colorado do Oeste       |{11008, Colorado do Oeste, {1102, Leste Rondoniense, {11, RO, Rondônia, {1, Norte, N}}}}|{110006, Vilhena, {1102, Ji-Paraná, {11, RO, Rondônia, {1, Norte, N}}}}      |\n",
      "|1100072|Corumbiara              |{11008, Colorado do Oeste, {1102, Leste Rondoniense, {11, RO, Rondônia, {1, Norte, N}}}}|{110006, Vilhena, {1102, Ji-Paraná, {11, RO, Rondônia, {1, Norte, N}}}}      |\n",
      "|1100080|Costa Marques           |{11002, Guajará-Mirim, {1101, Madeira-Guaporé, {11, RO, Rondônia, {1, Norte, N}}}}      |{110004, Ji-Paraná, {1102, Ji-Paraná, {11, RO, Rondônia, {1, Norte, N}}}}    |\n",
      "|1100098|Espigão D'Oeste         |{11006, Cacoal, {1102, Leste Rondoniense, {11, RO, Rondônia, {1, Norte, N}}}}           |{110005, Cacoal, {1102, Ji-Paraná, {11, RO, Rondônia, {1, Norte, N}}}}       |\n",
      "|1100106|Guajará-Mirim           |{11002, Guajará-Mirim, {1101, Madeira-Guaporé, {11, RO, Rondônia, {1, Norte, N}}}}      |{110001, Porto Velho, {1101, Porto Velho, {11, RO, Rondônia, {1, Norte, N}}}}|\n",
      "|1100114|Jaru                    |{11004, Ji-Paraná, {1102, Leste Rondoniense, {11, RO, Rondônia, {1, Norte, N}}}}        |{110003, Jaru, {1101, Porto Velho, {11, RO, Rondônia, {1, Norte, N}}}}       |\n",
      "|1100122|Ji-Paraná               |{11004, Ji-Paraná, {1102, Leste Rondoniense, {11, RO, Rondônia, {1, Norte, N}}}}        |{110004, Ji-Paraná, {1102, Ji-Paraná, {11, RO, Rondônia, {1, Norte, N}}}}    |\n",
      "|1100130|Machadinho D'Oeste      |{11003, Ariquemes, {1102, Leste Rondoniense, {11, RO, Rondônia, {1, Norte, N}}}}        |{110003, Jaru, {1101, Porto Velho, {11, RO, Rondônia, {1, Norte, N}}}}       |\n",
      "|1100148|Nova Brasilândia D'Oeste|{11005, Alvorada D'Oeste, {1102, Leste Rondoniense, {11, RO, Rondônia, {1, Norte, N}}}} |{110005, Cacoal, {1102, Ji-Paraná, {11, RO, Rondônia, {1, Norte, N}}}}       |\n",
      "|1100155|Ouro Preto do Oeste     |{11004, Ji-Paraná, {1102, Leste Rondoniense, {11, RO, Rondônia, {1, Norte, N}}}}        |{110004, Ji-Paraná, {1102, Ji-Paraná, {11, RO, Rondônia, {1, Norte, N}}}}    |\n",
      "|1100189|Pimenta Bueno           |{11007, Vilhena, {1102, Leste Rondoniense, {11, RO, Rondônia, {1, Norte, N}}}}          |{110005, Cacoal, {1102, Ji-Paraná, {11, RO, Rondônia, {1, Norte, N}}}}       |\n",
      "|1100205|Porto Velho             |{11001, Porto Velho, {1101, Madeira-Guaporé, {11, RO, Rondônia, {1, Norte, N}}}}        |{110001, Porto Velho, {1101, Porto Velho, {11, RO, Rondônia, {1, Norte, N}}}}|\n",
      "|1100254|Presidente Médici       |{11004, Ji-Paraná, {1102, Leste Rondoniense, {11, RO, Rondônia, {1, Norte, N}}}}        |{110004, Ji-Paraná, {1102, Ji-Paraná, {11, RO, Rondônia, {1, Norte, N}}}}    |\n",
      "|1100262|Rio Crespo              |{11003, Ariquemes, {1102, Leste Rondoniense, {11, RO, Rondônia, {1, Norte, N}}}}        |{110002, Ariquemes, {1101, Porto Velho, {11, RO, Rondônia, {1, Norte, N}}}}  |\n",
      "|1100288|Rolim de Moura          |{11006, Cacoal, {1102, Leste Rondoniense, {11, RO, Rondônia, {1, Norte, N}}}}           |{110005, Cacoal, {1102, Ji-Paraná, {11, RO, Rondônia, {1, Norte, N}}}}       |\n",
      "+-------+------------------------+----------------------------------------------------------------------------------------+-----------------------------------------------------------------------------+\n",
      "only showing top 20 rows\n"
     ]
    }
   ],
   "source": [
    "df.show(truncate=False)"
   ]
  },
  {
   "cell_type": "code",
   "execution_count": 15,
   "id": "0a579195-c9da-4866-ade4-c0f82c4d77ec",
   "metadata": {},
   "outputs": [],
   "source": [
    "df.write.format('delta').mode('overwrite').save(r'C:\\Users\\ResTIC16\\Documents\\IBGE_PROJETO\\datawarehouse_ibge\\data\\RAW\\municipio_completo')"
   ]
  },
  {
   "cell_type": "code",
   "execution_count": null,
   "id": "a98f03be-89e7-4860-ae71-dd735d963ed6",
   "metadata": {},
   "outputs": [],
   "source": []
  }
 ],
 "metadata": {
  "kernelspec": {
   "display_name": "Python 3 (ipykernel)",
   "language": "python",
   "name": "python3"
  },
  "language_info": {
   "codemirror_mode": {
    "name": "ipython",
    "version": 3
   },
   "file_extension": ".py",
   "mimetype": "text/x-python",
   "name": "python",
   "nbconvert_exporter": "python",
   "pygments_lexer": "ipython3",
   "version": "3.10.11"
  }
 },
 "nbformat": 4,
 "nbformat_minor": 5
}
