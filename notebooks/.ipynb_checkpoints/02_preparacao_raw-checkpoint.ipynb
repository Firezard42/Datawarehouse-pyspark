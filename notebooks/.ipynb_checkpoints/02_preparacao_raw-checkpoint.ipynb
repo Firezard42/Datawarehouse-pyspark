{
 "cells": [
  {
   "cell_type": "markdown",
   "id": "d893b59d-8f95-4c82-8180-2ea35a8f4181",
   "metadata": {},
   "source": [
    "                                        IMPORTS NECESSÁRIOS PARA PREPARACAO_RAW"
   ]
  },
  {
   "cell_type": "code",
   "execution_count": 1,
   "id": "e3c4f3e2-50f2-4ff0-8bae-ae90318a455c",
   "metadata": {},
   "outputs": [],
   "source": [
    "import os\n",
    "os.environ[\"HADOOP_HOME\"] = \"C:\\\\hadoop\""
   ]
  },
  {
   "cell_type": "code",
   "execution_count": 2,
   "id": "04889412-cf2e-4243-8510-470049981612",
   "metadata": {},
   "outputs": [],
   "source": [
    "from pyspark.sql import SparkSession\n",
    "from delta import configure_spark_with_delta_pip"
   ]
  },
  {
   "cell_type": "code",
   "execution_count": 3,
   "id": "a9bfad42-fbd2-4dc8-a8e8-34d8837838fa",
   "metadata": {},
   "outputs": [],
   "source": [
    "from pyspark.sql.types import *"
   ]
  },
  {
   "cell_type": "markdown",
   "id": "e6f621a7-51e6-41bd-a13c-6db3c7151ea3",
   "metadata": {},
   "source": [
    "                                            SESSION PREPARADA PARA O USO DO DELTA"
   ]
  },
  {
   "cell_type": "code",
   "execution_count": 4,
   "id": "a5891c5c-4c90-446b-89e9-a32d0c09bcbc",
   "metadata": {},
   "outputs": [],
   "source": [
    "session = SparkSession.builder\\\n",
    "    .appName('DW_empresas')\\\n",
    "    .config(\"spark.sql.extensions\", \"io.delta.sql.DeltaSparkSessionExtension\") \\\n",
    "    .config(\"spark.sql.catalog.spark_catalog\", \"org.apache.spark.sql.delta.catalog.DeltaCatalog\")"
   ]
  },
  {
   "cell_type": "code",
   "execution_count": 5,
   "id": "94fddd13-180d-404f-bc7d-c3309e1d7145",
   "metadata": {},
   "outputs": [],
   "source": [
    "spark = configure_spark_with_delta_pip(session).getOrCreate()"
   ]
  },
  {
   "cell_type": "markdown",
   "id": "e4c9f391-9c90-4133-a34e-f0f2c1feea9e",
   "metadata": {},
   "source": [
    "                                CRIEI O SCHEMA DE ACORDO COM OS DADOS DENTRO DO ARQUIVO CSV PARA CRIAÇÃO DE DATAFRAME"
   ]
  },
  {
   "cell_type": "code",
   "execution_count": 6,
   "id": "cdcea3ef-26fd-477b-9a8c-a0902686c5f4",
   "metadata": {},
   "outputs": [],
   "source": [
    "schema = StructType([\n",
    "    StructField(\"cnpj_basico\", StringType(), True),\n",
    "    StructField(\"razao_social\", StringType(), True),\n",
    "    StructField(\"natureza_juridica\", StringType(), True),\n",
    "    StructField(\"qualificacao_responsavel\", StringType(), True),\n",
    "    StructField(\"capital_social\", StringType(), True),  # vamos tratar depois como Decimal\n",
    "    StructField(\"porte_empresa\", StringType(), True),\n",
    "    StructField(\"ente_federativo_responsavel\", StringType(), True)\n",
    "])"
   ]
  },
  {
   "cell_type": "markdown",
   "id": "381507b7-53aa-4e28-90e9-88a29b955713",
   "metadata": {},
   "source": [
    "                                    LEITURA DA COLETA DE DADOS REALIZADA NA ETAPA ANTERIOR"
   ]
  },
  {
   "cell_type": "code",
   "execution_count": 9,
   "id": "f6ad217a-4d7f-4236-85de-b1b944456e5e",
   "metadata": {},
   "outputs": [],
   "source": [
    "df = spark.read.option(\"delimiter\", \";\") \\\n",
    "               .option(\"header\", \"false\") \\\n",
    "               .schema(schema) \\\n",
    "               .csv(r'C:\\Users\\ResTIC16\\Documents\\IBGE_PROJETO\\datawarehouse_ibge\\data\\LND\\empresas\\empresas_25-07-21.csv')"
   ]
  },
  {
   "cell_type": "markdown",
   "id": "cfd174bc-7b0f-4c7f-a4aa-0b39726a1421",
   "metadata": {},
   "source": [
    "                                                    TESTE DO DATAFRAME"
   ]
  },
  {
   "cell_type": "code",
   "execution_count": 10,
   "id": "973a085d-74a9-4475-9e87-3c3d1c63c11e",
   "metadata": {},
   "outputs": [
    {
     "name": "stdout",
     "output_type": "stream",
     "text": [
      "+-----------+--------------------+-----------------+------------------------+--------------+-------------+---------------------------+\n",
      "|cnpj_basico|        razao_social|natureza_juridica|qualificacao_responsavel|capital_social|porte_empresa|ente_federativo_responsavel|\n",
      "+-----------+--------------------+-----------------+------------------------+--------------+-------------+---------------------------+\n",
      "|   04631961|ITACAMP INDUSTRIA...|             2062|                      49|          0,00|           01|                       NULL|\n",
      "|   04631962|CLINICA OFTALMOLO...|             2062|                      49|          0,00|           05|                       NULL|\n",
      "|   04631963| EXPRESSO COSTA LTDA|             2062|                      49|          0,00|           01|                       NULL|\n",
      "|   04631964|PAULO BRAGA PROJE...|             2232|                      49|      20000,00|           01|                       NULL|\n",
      "|   04631965|COTERMAQ CONSERTO...|             2062|                      49|          0,00|           03|                       NULL|\n",
      "|   04631967|ACACIA MEDICINA D...|             2240|                      49|     500000,00|           03|                       NULL|\n",
      "|   04631968|CONDOMINIO DO EDI...|             3085|                      19|          0,00|           05|                       NULL|\n",
      "|   04631969|      J LEILOES LTDA|             2062|                      49|          0,00|           05|                       NULL|\n",
      "|   04631970|J. NOGUEIRA DE QU...|             2135|                      50|          0,00|           01|                       NULL|\n",
      "|   04631971|  2001 HANDLING LTDA|             2240|                      49|          0,00|           01|                       NULL|\n",
      "|   04631972|GONCALVES E VIANA...|             2062|                      49|          0,00|           01|                       NULL|\n",
      "|   04631973|ARCA DO LOUVOR MU...|             2062|                      49|          0,00|           01|                       NULL|\n",
      "|   04631975| NELSON DURVAL RISSE|             2135|                      50|          0,00|           05|                       NULL|\n",
      "|   04631976|FUNILARIA NOETZOL...|             2062|                      49|          0,00|           01|                       NULL|\n",
      "|   04631977|CEP PREVENCAO ODO...|             2240|                      49|      90000,00|           01|                       NULL|\n",
      "|   04631978|ESPACO SERVICOS C...|             2240|                      49|     100000,00|           03|                       NULL|\n",
      "|   04631979|DIVINO ETERNO FER...|             2135|                      50|          0,00|           01|                       NULL|\n",
      "|   04631980|MARIA DAS DORES S...|             2135|                      50|          0,00|           05|                       NULL|\n",
      "|   04631981|E & M COMERCIO E ...|             2062|                      49|          0,00|           01|                       NULL|\n",
      "|   04631983|FERNANDO RODRIGUE...|             2135|                      50|          0,00|           05|                       NULL|\n",
      "+-----------+--------------------+-----------------+------------------------+--------------+-------------+---------------------------+\n",
      "only showing top 20 rows\n"
     ]
    }
   ],
   "source": [
    "df.show()"
   ]
  },
  {
   "cell_type": "markdown",
   "id": "82db3261-1194-454d-9129-67dae12eb7d7",
   "metadata": {},
   "source": [
    "                                        ARQUIVO SALVO NO FORMATO DELTA NA PASTA RAW"
   ]
  },
  {
   "cell_type": "code",
   "execution_count": 10,
   "id": "151a6728-5d70-411c-807b-e3f013a56047",
   "metadata": {},
   "outputs": [],
   "source": [
    "df.write.format('delta') \\\n",
    "        .mode('overwrite') \\\n",
    "        .save(r'C:\\Users\\ResTIC16\\Documents\\IBGE_PROJETO\\datawarehouse_ibge\\data\\RAW\\empresas')"
   ]
  },
  {
   "cell_type": "code",
   "execution_count": null,
   "id": "b8be6437-4af9-4644-8fc6-1ae776eb916f",
   "metadata": {},
   "outputs": [],
   "source": []
  }
 ],
 "metadata": {
  "kernelspec": {
   "display_name": "Python 3 (ipykernel)",
   "language": "python",
   "name": "python3"
  },
  "language_info": {
   "codemirror_mode": {
    "name": "ipython",
    "version": 3
   },
   "file_extension": ".py",
   "mimetype": "text/x-python",
   "name": "python",
   "nbconvert_exporter": "python",
   "pygments_lexer": "ipython3",
   "version": "3.10.11"
  }
 },
 "nbformat": 4,
 "nbformat_minor": 5
}
