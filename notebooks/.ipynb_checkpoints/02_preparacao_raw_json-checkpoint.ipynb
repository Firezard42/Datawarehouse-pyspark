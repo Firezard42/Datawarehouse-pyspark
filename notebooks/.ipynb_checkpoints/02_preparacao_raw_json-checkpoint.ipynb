{
 "cells": [
  {
   "cell_type": "code",
   "execution_count": 1,
   "id": "e3c4f3e2-50f2-4ff0-8bae-ae90318a455c",
   "metadata": {},
   "outputs": [],
   "source": [
    "import os\n",
    "os.environ[\"HADOOP_HOME\"] = \"C:\\\\hadoop\""
   ]
  },
  {
   "cell_type": "code",
   "execution_count": 2,
   "id": "04889412-cf2e-4243-8510-470049981612",
   "metadata": {},
   "outputs": [],
   "source": [
    "from pyspark.sql import SparkSession\n",
    "from delta import configure_spark_with_delta_pip"
   ]
  },
  {
   "cell_type": "code",
   "execution_count": 3,
   "id": "a9bfad42-fbd2-4dc8-a8e8-34d8837838fa",
   "metadata": {},
   "outputs": [],
   "source": [
    "from pyspark.sql.types import *"
   ]
  },
  {
   "cell_type": "code",
   "execution_count": 4,
   "id": "a5891c5c-4c90-446b-89e9-a32d0c09bcbc",
   "metadata": {},
   "outputs": [],
   "source": [
    "session = SparkSession.builder\\\n",
    "    .appName('DW_Empresas')\\\n",
    "    .config(\"spark.sql.extensions\", \"io.delta.sql.DeltaSparkSessionExtension\") \\\n",
    "    .config(\"spark.sql.catalog.spark_catalog\", \"org.apache.spark.sql.delta.catalog.DeltaCatalog\")"
   ]
  },
  {
   "cell_type": "code",
   "execution_count": 5,
   "id": "94fddd13-180d-404f-bc7d-c3309e1d7145",
   "metadata": {},
   "outputs": [],
   "source": [
    "spark = configure_spark_with_delta_pip(session).getOrCreate()"
   ]
  },
  {
   "cell_type": "code",
   "execution_count": 6,
   "id": "cdcea3ef-26fd-477b-9a8c-a0902686c5f4",
   "metadata": {},
   "outputs": [],
   "source": [
    "schema = StructType([\n",
    "    StructField(\"id\", IntegerType(), True),\n",
    "    StructField(\"nome\", StringType(), True),\n",
    "\n",
    "    StructField(\"microrregiao\", StructType([\n",
    "        StructField(\"id\", IntegerType(), True),\n",
    "        StructField(\"nome\", StringType(), True),\n",
    "\n",
    "        StructField(\"mesorregiao\", StructType([\n",
    "            StructField(\"id\", IntegerType(), True),\n",
    "            StructField(\"nome\", StringType(), True),\n",
    "\n",
    "            StructField(\"UF\", StructType([\n",
    "                StructField(\"id\", IntegerType(), True),\n",
    "                StructField(\"sigla\", StringType(), True),\n",
    "                StructField(\"nome\", StringType(), True),\n",
    "\n",
    "                StructField(\"regiao\", StructType([\n",
    "                    StructField(\"id\", IntegerType(), True),\n",
    "                    StructField(\"sigla\", StringType(), True),\n",
    "                    StructField(\"nome\", StringType(), True)\n",
    "                ]))\n",
    "            ]))\n",
    "        ]))\n",
    "    ])),\n",
    "\n",
    "    StructField(\"regiao-imediata\", StructType([\n",
    "        StructField(\"id\", IntegerType(), True),\n",
    "        StructField(\"nome\", StringType(), True),\n",
    "\n",
    "        StructField(\"regiao-intermediaria\", StructType([\n",
    "            StructField(\"id\", IntegerType(), True),\n",
    "            StructField(\"nome\", StringType(), True),\n",
    "\n",
    "            StructField(\"UF\", StructType([\n",
    "                StructField(\"id\", IntegerType(), True),\n",
    "                StructField(\"sigla\", StringType(), True),\n",
    "                StructField(\"nome\", StringType(), True),\n",
    "\n",
    "                StructField(\"regiao\", StructType([\n",
    "                    StructField(\"id\", IntegerType(), True),\n",
    "                    StructField(\"sigla\", StringType(), True),\n",
    "                    StructField(\"nome\", StringType(), True)\n",
    "                ]))\n",
    "            ]))\n",
    "        ]))\n",
    "    ]))\n",
    "])"
   ]
  },
  {
   "cell_type": "code",
   "execution_count": 7,
   "id": "f6ad217a-4d7f-4236-85de-b1b944456e5e",
   "metadata": {},
   "outputs": [],
   "source": [
    "df = spark.read.json(r'C:\\Users\\ResTIC16\\Documents\\IBGE_PROJETO\\datawarehouse_ibge\\data\\LND\\populacao_25-07-15.json',schema=schema)\n",
    "df.write.format('delta').mode('overwrite').save(r'C:\\Users\\ResTIC16\\Documents\\IBGE_PROJETO\\datawarehouse_ibge\\data\\RAW')"
   ]
  },
  {
   "cell_type": "code",
   "execution_count": null,
   "id": "151a6728-5d70-411c-807b-e3f013a56047",
   "metadata": {},
   "outputs": [],
   "source": []
  }
 ],
 "metadata": {
  "kernelspec": {
   "display_name": "Python 3 (ipykernel)",
   "language": "python",
   "name": "python3"
  },
  "language_info": {
   "codemirror_mode": {
    "name": "ipython",
    "version": 3
   },
   "file_extension": ".py",
   "mimetype": "text/x-python",
   "name": "python",
   "nbconvert_exporter": "python",
   "pygments_lexer": "ipython3",
   "version": "3.10.11"
  }
 },
 "nbformat": 4,
 "nbformat_minor": 5
}
