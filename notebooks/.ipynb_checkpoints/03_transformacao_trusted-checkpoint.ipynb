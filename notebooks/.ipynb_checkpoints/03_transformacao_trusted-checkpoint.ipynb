{
 "cells": [
  {
   "cell_type": "markdown",
   "id": "2bbecbfa-a25c-4508-9a18-8ac6a7fb3786",
   "metadata": {},
   "source": [
    "                                    TODOS IMPORT NECESSÁRIOS PARA RODAR PYSPARK + DELTA"
   ]
  },
  {
   "cell_type": "code",
   "execution_count": 1,
   "id": "f53d163d-cff3-4d16-9f63-3ad041bc3b5a",
   "metadata": {},
   "outputs": [],
   "source": [
    "import findspark\n",
    "findspark.init()"
   ]
  },
  {
   "cell_type": "code",
   "execution_count": 2,
   "id": "f618f518-ceae-4bd6-80a4-b0c5fa366930",
   "metadata": {},
   "outputs": [],
   "source": [
    "import os\n",
    "os.environ[\"HADOOP_HOME\"] = \"C:\\\\hadoop\"\n",
    "os.environ[\"HADOOP_COMMON_HOME\"] = \"C:\\\\hadoop\"\n",
    "os.environ[\"HADOOP_HDFS_HOME\"] = \"C:\\\\hadoop\"\n",
    "os.environ[\"HADOOP_TMP_DIR\"] = \"C:\\\\hadoop\\\\tmp\"\n",
    "os.environ[\"PATH\"] = f\"{os.environ['PATH']};C:\\\\hadoop\\\\bin\""
   ]
  },
  {
   "cell_type": "code",
   "execution_count": 3,
   "id": "cddc5052-1359-49b2-bde8-70d4e3ee4bf2",
   "metadata": {},
   "outputs": [],
   "source": [
    "if not os.path.exists(\"C:\\\\hadoop\\\\tmp\"):\n",
    "    os.makedirs(\"C:\\\\hadoop\\\\tmp\")\n",
    "\n",
    "# Configurações essenciais para Windows\n",
    "os.environ[\"HADOOP_USER_NAME\"] = os.getlogin()  # Usuário atual do Windows"
   ]
  },
  {
   "cell_type": "code",
   "execution_count": 4,
   "id": "8a159f33-5920-4762-a0b7-6924729c1ab9",
   "metadata": {},
   "outputs": [],
   "source": [
    "from pyspark.sql import SparkSession\n",
    "from delta import configure_spark_with_delta_pip"
   ]
  },
  {
   "cell_type": "code",
   "execution_count": 5,
   "id": "09ce6de2-ee3c-4ccb-ab65-4f931bb272b7",
   "metadata": {},
   "outputs": [],
   "source": [
    "from pyspark import SparkFiles\n",
    "spark_jars = \":\".join([\n",
    "    \"C:\\\\hadoop\\\\share\\\\hadoop\\\\common\\\\*.jar\",\n",
    "    \"C:\\\\hadoop\\\\share\\\\hadoop\\\\common\\\\lib\\\\*.jar\"\n",
    "])\n",
    "os.environ[\"SPARK_CLASSPATH\"] = spark_jars"
   ]
  },
  {
   "cell_type": "markdown",
   "id": "5011162f-d1c3-47e2-9c22-bf3c9a3bf904",
   "metadata": {},
   "source": [
    "                                CRIAÇÃO DE SESSÃO COM CONFIGURAÇÃO NECESSÁRIO PARA O FUNCIONANDO DO DELTA"
   ]
  },
  {
   "cell_type": "code",
   "execution_count": 6,
   "id": "8334418d-e095-4ffa-a85f-237b10bc300d",
   "metadata": {},
   "outputs": [],
   "source": [
    "builder = SparkSession.builder \\\n",
    "    .appName('DW_transformacao') \\\n",
    "    .config(\"spark.sql.extensions\", \"io.delta.sql.DeltaSparkSessionExtension\") \\\n",
    "    .config(\"spark.sql.catalog.spark_catalog\", \"org.apache.spark.sql.delta.catalog.DeltaCatalog\") \\\n",
    "    .config(\"spark.hadoop.fs.file.impl\", \"org.apache.hadoop.fs.LocalFileSystem\") \\\n",
    "    .config(\"spark.driver.extraJavaOptions\", \"-Dio.netty.tryReflectionSetAccessible=true\") \\\n",
    "    .config(\"spark.sql.warehouse.dir\", \"file:///C:/temp/spark-warehouse\") \\\n",
    "    .config(\"spark.network.timeout\", \"600s\") \\\n",
    "    .config(\"spark.hadoop.fs.defaultFS\", \"file:///\") \\\n",
    "    .config(\"spark.delta.logStore.class\", \"org.apache.spark.sql.delta.storage.HDFSLogStore\")\\\n",
    "    .config(\"spark.driver.memory\", \"4g\")"
   ]
  },
  {
   "cell_type": "code",
   "execution_count": 7,
   "id": "d6b34cc0-2d14-44d5-9b5c-57e1502b298e",
   "metadata": {},
   "outputs": [],
   "source": [
    "spark = configure_spark_with_delta_pip(builder).getOrCreate()"
   ]
  },
  {
   "cell_type": "markdown",
   "id": "f0307311-5e6b-4233-9752-ea050e10c26b",
   "metadata": {},
   "source": [
    "                             CRIEI VÁRIOS DF USANDO OS ARQUIVOS DELTA QUE EU TINHA SALVADO NA ETAPA ANTERIOR"
   ]
  },
  {
   "cell_type": "code",
   "execution_count": 8,
   "id": "e7490502-eff4-4682-8892-d71e007d258b",
   "metadata": {},
   "outputs": [],
   "source": [
    "df_empresas = spark.read.format('delta').load(r'C:\\Users\\ResTIC16\\Documents\\IBGE_PROJETO\\datawarehouse_ibge\\data\\RAW\\empresas')\n",
    "df_municipios = spark.read.format('delta').load(r'C:\\Users\\ResTIC16\\Documents\\IBGE_PROJETO\\datawarehouse_ibge\\data\\RAW\\municipios')\n",
    "df_CNAE = spark.read.format('delta').load(r'C:\\Users\\ResTIC16\\Documents\\IBGE_PROJETO\\datawarehouse_ibge\\data\\RAW\\CNAE')\n",
    "df_natureza_juridica = spark.read.format('delta').load(r'C:\\Users\\ResTIC16\\Documents\\IBGE_PROJETO\\datawarehouse_ibge\\data\\RAW\\naturezas')\n",
    "df_simples_nacional = spark.read.format('delta').load(r'C:\\Users\\ResTIC16\\Documents\\IBGE_PROJETO\\datawarehouse_ibge\\data\\RAW\\simples')\n",
    "df_estabelecimentos = spark.read.format('delta').load(r'C:\\Users\\ResTIC16\\Documents\\IBGE_PROJETO\\datawarehouse_ibge\\data\\RAW\\estabelecimentos')"
   ]
  },
  {
   "cell_type": "code",
   "execution_count": 9,
   "id": "d7c23165-2cda-4c70-9cf6-0eecf0c065c4",
   "metadata": {},
   "outputs": [],
   "source": [
    "from pyspark.sql.functions import *  #IMPORTEI TODAS AS FUNCÕES DO PYSPARK PARA SER MAIS PRÁTICO"
   ]
  },
  {
   "cell_type": "markdown",
   "id": "acabd065-b3aa-4645-b020-505256e46203",
   "metadata": {},
   "source": [
    "                                                LIMPEZA DOS DADOS"
   ]
  },
  {
   "cell_type": "code",
   "execution_count": 10,
   "id": "ab45f68a-3a13-4f9d-a209-40a70b351d8a",
   "metadata": {},
   "outputs": [],
   "source": [
    "df_empresas = df_empresas.filter(col(\"razao_social\").isNotNull() & (trim(col(\"razao_social\")) != \"\"))\n",
    "df_empresas = df_empresas.filter(length(col(\"cnpj_basico\")) >= 8)"
   ]
  },
  {
   "cell_type": "code",
   "execution_count": 11,
   "id": "cf2d2dc5-1bd5-4498-acf3-6767682a2504",
   "metadata": {},
   "outputs": [],
   "source": [
    "df_empresas = df_empresas.filter(\n",
    "    col(\"natureza_juridica\").isNotNull() & \n",
    "    col(\"qualificacao_responsavel\").isNotNull() & \n",
    "    col(\"porte_empresa\").isNotNull()\n",
    ")"
   ]
  },
  {
   "cell_type": "code",
   "execution_count": 12,
   "id": "4c22ad1a-b7c1-49ea-82f2-ab6a35ca8782",
   "metadata": {},
   "outputs": [],
   "source": [
    "df_municipios = df_municipios.filter(\n",
    "    col(\"codigo\").isNotNull() & \n",
    "    (trim(col(\"nome\")) != \"\")\n",
    ")"
   ]
  },
  {
   "cell_type": "code",
   "execution_count": 13,
   "id": "ed45192f-00b6-4693-8720-93734324e24f",
   "metadata": {},
   "outputs": [],
   "source": [
    "df_CNAE = df_CNAE.filter(\n",
    "    col(\"codigo\").isNotNull() & \n",
    "    (trim(col(\"descricao\")) != \"\")\n",
    ")"
   ]
  },
  {
   "cell_type": "code",
   "execution_count": 14,
   "id": "1e685830-8f33-48c3-ba43-a92123ea4400",
   "metadata": {},
   "outputs": [],
   "source": [
    "df_natureza_juridica = df_natureza_juridica.filter(\n",
    "    col(\"codigo\").isNotNull() & \n",
    "    (trim(col(\"descricao\")) != \"\")\n",
    ")"
   ]
  },
  {
   "cell_type": "code",
   "execution_count": 15,
   "id": "72d774d3-cbcd-4ce2-8f62-655dcf2f767d",
   "metadata": {},
   "outputs": [],
   "source": [
    "df_simples_nacional = df_simples_nacional.filter(col(\"cnpj_basico\").isNotNull())\n",
    "df_simples_nacional = df_simples_nacional.filter(col(\"opcao_simples\").isin(\"S\", \"N\"))"
   ]
  },
  {
   "cell_type": "markdown",
   "id": "1e905acf-d570-489e-a570-5ba1d309b94f",
   "metadata": {},
   "source": [
    "                                                JOINS E ENRIQUECIMENTOS"
   ]
  },
  {
   "cell_type": "code",
   "execution_count": 16,
   "id": "59be996a-0291-4f16-b0e8-e5003a6666f5",
   "metadata": {},
   "outputs": [],
   "source": [
    "df_simples_nacional = df_simples_nacional.withColumnRenamed(\"cnpj_basico\", \"cnpj_1\")"
   ]
  },
  {
   "cell_type": "code",
   "execution_count": 17,
   "id": "f92fbec2-25c3-4b99-aa13-dcde2c5080b7",
   "metadata": {},
   "outputs": [],
   "source": [
    "municipios_2 = df_estabelecimentos.select(\n",
    "    col(\"municipio\").alias(\"municipio_id\"),\n",
    "    col(\"uf\").alias(\"uf\"),\n",
    "    col('cnpj_basico').alias('cnpj_estabelecimento')\n",
    ")"
   ]
  },
  {
   "cell_type": "code",
   "execution_count": 18,
   "id": "efd71450-14ff-49b7-9221-20f29a17d111",
   "metadata": {},
   "outputs": [],
   "source": [
    "df_municipios = df_municipios.join(municipios_2, df_municipios[\"codigo\"] == municipios_2[\"municipio_id\"], \"left\")\n",
    "df_municipios = df_municipios.withColumnRenamed(\"nome\", \"nome_municipio\")\n",
    "df_municipios = df_municipios.drop('codigo')"
   ]
  },
  {
   "cell_type": "code",
   "execution_count": 19,
   "id": "2a34ad08-498a-4f28-9dde-716facc05470",
   "metadata": {},
   "outputs": [],
   "source": [
    "cnae_principal = df_estabelecimentos.select(\n",
    "    col(\"cnae_fiscal_principal\").alias(\"cnae_fiscal\"),\n",
    "    col('cnpj_basico').alias('cnpj_cnae')\n",
    ")"
   ]
  },
  {
   "cell_type": "code",
   "execution_count": 20,
   "id": "4d6a1bd9-b2e9-498a-b8f7-0dcf6743f888",
   "metadata": {},
   "outputs": [],
   "source": [
    "df_CNAE = df_CNAE.join(cnae_principal, df_CNAE['codigo'] == cnae_principal['cnae_fiscal'], 'left')\n",
    "\n",
    "df_CNAE = df_CNAE.withColumnRenamed(\"codigo\", \"codigo_cnae\")\n",
    "\n",
    "df_CNAE = df_CNAE.withColumnRenamed(\"descricao\", \"descricao_cnae\")\n",
    "\n",
    "df_CNAE = df_CNAE.drop('cnae_fiscal')"
   ]
  },
  {
   "cell_type": "code",
   "execution_count": 21,
   "id": "a0da4e92-3884-41ae-be44-bab31b35b207",
   "metadata": {},
   "outputs": [],
   "source": [
    "df_trusted = df_empresas \\\n",
    "    .join(df_natureza_juridica, df_empresas[\"natureza_juridica\"] == df_natureza_juridica[\"codigo\"], \"left\") \\\n",
    "    .join(df_simples_nacional, df_empresas[\"cnpj_basico\"] == df_simples_nacional[\"cnpj_1\"], \"left\")\\\n",
    "    .join(df_municipios, df_empresas['cnpj_basico'] == df_municipios['cnpj_estabelecimento'], \"left\")\\\n",
    "    .join(df_CNAE, df_empresas['cnpj_basico'] == df_CNAE['cnpj_cnae'], 'left')\n",
    "\n",
    "df_trusted = df_trusted.drop('cnpj_1')\n",
    "df_trusted = df_trusted.drop('cnpj_estabelecimento')\n",
    "df_trusted = df_trusted.drop('cnpj_cnae')"
   ]
  },
  {
   "cell_type": "code",
   "execution_count": 22,
   "id": "093e6e45-5080-4f16-8b5a-782956e663e0",
   "metadata": {},
   "outputs": [],
   "source": [
    "df_trusted = df_trusted.drop('ente_federativo_responsavel') #REMOÇÃO DE COLUNA NULL"
   ]
  },
  {
   "cell_type": "code",
   "execution_count": 25,
   "id": "f722c38e-0506-4cd8-84ab-cb38c5464d93",
   "metadata": {},
   "outputs": [
    {
     "name": "stdout",
     "output_type": "stream",
     "text": [
      "+-----------+-------------------------------------------------------------------------------+-----------------+------------------------+--------------+-------------+------+---------------------------------------------------------------------+-------------+------------------+---------------------+---------+--------------+-----------------+----------------------+------------+----+-----------+--------------------------------------------------------------------------------------------------+\n",
      "|cnpj_basico|razao_social                                                                   |natureza_juridica|qualificacao_responsavel|capital_social|porte_empresa|codigo|descricao                                                            |opcao_simples|data_opcao_simples|data_exclusao_simples|opcao_mei|data_opcao_mei|data_exclusao_mei|nome_municipio        |municipio_id|uf  |codigo_cnae|descricao_cnae                                                                                    |\n",
      "+-----------+-------------------------------------------------------------------------------+-----------------+------------------------+--------------+-------------+------+---------------------------------------------------------------------+-------------+------------------+---------------------+---------+--------------+-----------------+----------------------+------------+----+-----------+--------------------------------------------------------------------------------------------------+\n",
      "|00000014   |CLUBE DE MAES DA CASA VERDE ALTA E ADJACENCIAS                                 |3999             |16                      |0,00          |05           |3999  |Associação Privada                                                   |NULL         |NULL              |NULL                 |NULL     |NULL          |NULL             |NULL                  |NULL        |NULL|NULL       |NULL                                                                                              |\n",
      "|00000023   |CAMACHO E FERIGOLLI INFORMATICA S/C LTDA                                       |2240             |49                      |0,00          |05           |2240  |Sociedade Simples Limitada                                           |NULL         |NULL              |NULL                 |NULL     |NULL          |NULL             |NULL                  |NULL        |NULL|NULL       |NULL                                                                                              |\n",
      "|00000069   |QUIRONIA INTERMEDIACAO DE NEGOCIOS LTDA                                        |2240             |28                      |0,00          |05           |2240  |Sociedade Simples Limitada                                           |NULL         |NULL              |NULL                 |NULL     |NULL          |NULL             |NULL                  |NULL        |NULL|NULL       |NULL                                                                                              |\n",
      "|00000075   |CENTRO ESPIRITA EURIPEDES BARSANULFO                                           |3999             |16                      |0,00          |05           |3999  |Associação Privada                                                   |NULL         |NULL              |NULL                 |NULL     |NULL          |NULL             |NULL                  |NULL        |NULL|NULL       |NULL                                                                                              |\n",
      "|00000122   |TAUMATURGO E ALKIMIM RECREACAO INFANTIL S/C LTDA                               |2240             |49                      |0,00          |05           |2240  |Sociedade Simples Limitada                                           |NULL         |NULL              |NULL                 |NULL     |NULL          |NULL             |NULL                  |NULL        |NULL|NULL       |NULL                                                                                              |\n",
      "|00000124   |PROMOVESP PROMOCOES E EVENTOS ESPORTIVOS LTDA                                  |2062             |49                      |10000,00      |01           |2062  |Sociedade Empresária Limitada                                        |N            |20070701          |20070701             |N        |00000000      |00000000         |NULL                  |NULL        |NULL|NULL       |NULL                                                                                              |\n",
      "|00000125   |OPTICA VEIGA LTDA                                                              |2062             |49                      |0,00          |05           |2062  |Sociedade Empresária Limitada                                        |NULL         |NULL              |NULL                 |NULL     |NULL          |NULL             |NULL                  |NULL        |NULL|NULL       |NULL                                                                                              |\n",
      "|00000145   |ASSOCIACAO E CLUBE DE MAES 'RITA DE CASSIA'                                    |3999             |16                      |0,00          |05           |3999  |Associação Privada                                                   |NULL         |NULL              |NULL                 |NULL     |NULL          |NULL             |NULL                  |NULL        |NULL|NULL       |NULL                                                                                              |\n",
      "|00000169   |CLINICA DE OLHOS LUTER S/C LTDA                                                |2240             |28                      |0,00          |05           |2240  |Sociedade Simples Limitada                                           |NULL         |NULL              |NULL                 |NULL     |NULL          |NULL             |NULL                  |NULL        |NULL|NULL       |NULL                                                                                              |\n",
      "|00000170   |NUCLEO DE RECREACAO INFANTIL ENERGIA LTDA                                      |2240             |49                      |200,00        |01           |2240  |Sociedade Simples Limitada                                           |NULL         |NULL              |NULL                 |NULL     |NULL          |NULL             |NULL                  |NULL        |NULL|NULL       |NULL                                                                                              |\n",
      "|00000175   |PROMOLAZER S/C LTDA                                                            |2240             |28                      |0,00          |05           |2240  |Sociedade Simples Limitada                                           |NULL         |NULL              |NULL                 |NULL     |NULL          |NULL             |NULL                  |NULL        |NULL|NULL       |NULL                                                                                              |\n",
      "|00000184   |DB COMPANY S/C LTDA                                                            |2240             |28                      |0,00          |05           |2240  |Sociedade Simples Limitada                                           |NULL         |NULL              |NULL                 |NULL     |NULL          |NULL             |NULL                  |NULL        |NULL|NULL       |NULL                                                                                              |\n",
      "|00414456   |JUBAEL COMERCIO DE BIJUTERIAS LTDA                                             |2062             |49                      |0,00          |05           |2062  |Sociedade Empresária Limitada                                        |NULL         |NULL              |NULL                 |NULL     |NULL          |NULL             |NULL                  |NULL        |NULL|NULL       |NULL                                                                                              |\n",
      "|00414480   |TOPOBARRA CONSTRUTORA INDUSTRIA E COMERCIO LTDA                                |2062             |49                      |0,00          |01           |2062  |Sociedade Empresária Limitada                                        |NULL         |NULL              |NULL                 |NULL     |NULL          |NULL             |BARRA DE SAO FRANCISCO|5617        |ES  |7111100    |Serviços de arquitetura                                                                           |\n",
      "|00414484   |LUZIA AURISTELA MARANHAO MATIAS                                                |2135             |50                      |1000,00       |05           |2135  |Empresário (Individual)                                              |S            |20070701          |00000000             |N        |00000000      |00000000         |NULL                  |NULL        |NULL|NULL       |NULL                                                                                              |\n",
      "|00414496   |COTENGE-CONSTRUTORA SOUSA REGO LTDA                                            |2062             |49                      |0,00          |05           |2062  |Sociedade Empresária Limitada                                        |NULL         |NULL              |NULL                 |NULL     |NULL          |NULL             |NULL                  |NULL        |NULL|NULL       |NULL                                                                                              |\n",
      "|00414512   |JOSE FRANCISCO SAGRILLO                                                        |2135             |50                      |0,00          |05           |2135  |Empresário (Individual)                                              |NULL         |NULL              |NULL                 |NULL     |NULL          |NULL             |NULL                  |NULL        |NULL|NULL       |NULL                                                                                              |\n",
      "|00414515   |GRAMARO MARMORES E GRANITOS LTDA                                               |2062             |49                      |0,00          |01           |2062  |Sociedade Empresária Limitada                                        |NULL         |NULL              |NULL                 |NULL     |NULL          |NULL             |NULL                  |NULL        |NULL|NULL       |NULL                                                                                              |\n",
      "|00414533   |CARLOS EDUARDO OLIVEIRA AGUAS                                                  |2135             |50                      |0,00          |05           |2135  |Empresário (Individual)                                              |NULL         |NULL              |NULL                 |NULL     |NULL          |NULL             |NULL                  |NULL        |NULL|NULL       |NULL                                                                                              |\n",
      "|00414548   |IZILDO RODRIGUES GOMES                                                         |2135             |50                      |0,00          |05           |2135  |Empresário (Individual)                                              |NULL         |NULL              |NULL                 |NULL     |NULL          |NULL             |ORINDIUVA             |6785        |SP  |4729601    |Tabacaria                                                                                         |\n",
      "|00414563   |FRIGELAR COMERCIO & TRANSPORTES LTDA                                           |2062             |49                      |63000,00      |01           |2062  |Sociedade Empresária Limitada                                        |N            |20070701          |20231213             |N        |00000000      |00000000         |NULL                  |NULL        |NULL|NULL       |NULL                                                                                              |\n",
      "|00414566   |VILLA WILLY INDUSTRIA E COMERCIO DE CONFECCOES LTDA                            |2062             |49                      |0,00          |05           |2062  |Sociedade Empresária Limitada                                        |NULL         |NULL              |NULL                 |NULL     |NULL          |NULL             |NULL                  |NULL        |NULL|NULL       |NULL                                                                                              |\n",
      "|00414583   |BEEDIM COMERCIO E SERVICO LTDA                                                 |2062             |49                      |250000,00     |01           |2062  |Sociedade Empresária Limitada                                        |S            |20250101          |00000000             |N        |00000000      |00000000         |NULL                  |NULL        |NULL|NULL       |NULL                                                                                              |\n",
      "|00414587   |ASP EMBALAGEM DE MADEIRA E FERRAGENS LTDA                                      |2062             |49                      |2500,00       |01           |2062  |Sociedade Empresária Limitada                                        |N            |20170101          |20171231             |N        |00000000      |00000000         |NULL                  |NULL        |NULL|NULL       |NULL                                                                                              |\n",
      "|00414644   |GIULIANA BERTOZI                                                               |2135             |50                      |0,00          |05           |2135  |Empresário (Individual)                                              |NULL         |NULL              |NULL                 |NULL     |NULL          |NULL             |NULL                  |NULL        |NULL|NULL       |NULL                                                                                              |\n",
      "|00414655   |ROQUE DIAS CUNHA                                                               |2135             |50                      |0,00          |05           |2135  |Empresário (Individual)                                              |NULL         |NULL              |NULL                 |NULL     |NULL          |NULL             |NULL                  |NULL        |NULL|NULL       |NULL                                                                                              |\n",
      "|00414658   |IVO SEVERINO DA SILVA BAURU                                                    |2135             |50                      |0,00          |05           |2135  |Empresário (Individual)                                              |NULL         |NULL              |NULL                 |NULL     |NULL          |NULL             |NULL                  |NULL        |NULL|NULL       |NULL                                                                                              |\n",
      "|00414663   |AGNALDO VICENTE DA SILVA                                                       |2135             |50                      |0,00          |01           |2135  |Empresário (Individual)                                              |NULL         |NULL              |NULL                 |NULL     |NULL          |NULL             |NULL                  |NULL        |NULL|NULL       |NULL                                                                                              |\n",
      "|00414665   |CLINICA CADIOLOGICA LARANJEIRAS LTDA                                           |2062             |49                      |0,00          |05           |2062  |Sociedade Empresária Limitada                                        |NULL         |NULL              |NULL                 |NULL     |NULL          |NULL             |NULL                  |NULL        |NULL|NULL       |NULL                                                                                              |\n",
      "|00802675   |FERNANDO L CASTRO                                                              |2135             |50                      |0,00          |01           |2135  |Empresário (Individual)                                              |NULL         |NULL              |NULL                 |NULL     |NULL          |NULL             |NULL                  |NULL        |NULL|NULL       |NULL                                                                                              |\n",
      "|00802726   |FUNDO DE INVESTIMENTO FATOR HEDGE MULTIMERCADO                                 |2224             |43                      |0,00          |05           |2224  |Clube/Fundo de Investimento                                          |NULL         |NULL              |NULL                 |NULL     |NULL          |NULL             |NULL                  |NULL        |NULL|NULL       |NULL                                                                                              |\n",
      "|00802746   |ALEXANDRE DOS REIS BUZZO                                                       |2135             |50                      |0,00          |05           |2135  |Empresário (Individual)                                              |NULL         |NULL              |NULL                 |NULL     |NULL          |NULL             |NULL                  |NULL        |NULL|NULL       |NULL                                                                                              |\n",
      "|00802773   |LUAN COMERCIO DE COMESTIVEIS LTDA                                              |2062             |49                      |0,00          |01           |2062  |Sociedade Empresária Limitada                                        |N            |20070701          |20100126             |N        |00000000      |00000000         |NULL                  |NULL        |NULL|NULL       |NULL                                                                                              |\n",
      "|00802778   |MACEDO E BESSA LTDA                                                            |2062             |49                      |0,00          |01           |2062  |Sociedade Empresária Limitada                                        |N            |20150101          |20150101             |N        |00000000      |00000000         |NULL                  |NULL        |NULL|NULL       |NULL                                                                                              |\n",
      "|00802783   |SUELI GOMES DE CARVALHO ROTISSERIE                                             |2135             |50                      |0,00          |05           |2135  |Empresário (Individual)                                              |NULL         |NULL              |NULL                 |NULL     |NULL          |NULL             |NULL                  |NULL        |NULL|NULL       |NULL                                                                                              |\n",
      "|00802786   |SONIA APARECIDA TABARRACHO DE JESUS CAMPOS                                     |2135             |50                      |0,00          |05           |2135  |Empresário (Individual)                                              |S            |20150101          |00000000             |N        |00000000      |00000000         |NULL                  |NULL        |NULL|NULL       |NULL                                                                                              |\n",
      "|00802791   |WLADIMIR MATOS                                                                 |2135             |50                      |0,00          |01           |2135  |Empresário (Individual)                                              |NULL         |NULL              |NULL                 |NULL     |NULL          |NULL             |NULL                  |NULL        |NULL|NULL       |NULL                                                                                              |\n",
      "|00802797   |FERNANDO VIANA DE ALMEIDA                                                      |2135             |50                      |0,00          |01           |2135  |Empresário (Individual)                                              |NULL         |NULL              |NULL                 |NULL     |NULL          |NULL             |NULL                  |NULL        |NULL|NULL       |NULL                                                                                              |\n",
      "|00802809   |JAVA-MF COMERCIO DE ROUPAS LTDA                                                |2062             |49                      |0,00          |05           |2062  |Sociedade Empresária Limitada                                        |NULL         |NULL              |NULL                 |NULL     |NULL          |NULL             |NULL                  |NULL        |NULL|NULL       |NULL                                                                                              |\n",
      "|00802812   |WILSON CASADEI VRECH                                                           |2135             |50                      |0,00          |05           |2135  |Empresário (Individual)                                              |NULL         |NULL              |NULL                 |NULL     |NULL          |NULL             |NULL                  |NULL        |NULL|NULL       |NULL                                                                                              |\n",
      "|01191423   |IGREJA BATISTA PALAVRA VIVA                                                    |3220             |16                      |0,00          |05           |3220  |Organização Religiosa                                                |NULL         |NULL              |NULL                 |NULL     |NULL          |NULL             |NULL                  |NULL        |NULL|NULL       |NULL                                                                                              |\n",
      "|01191445   |ASSOCIACAO MUSICAL PAULO SERGIO SARAIVA                                        |3999             |16                      |0,00          |05           |3999  |Associação Privada                                                   |NULL         |NULL              |NULL                 |NULL     |NULL          |NULL             |NULL                  |NULL        |NULL|NULL       |NULL                                                                                              |\n",
      "|01191463   |CONDOMINIO DO EDIFICIO SYLVIA GUERRA                                           |3085             |19                      |0,00          |05           |3085  |Condomínio Edilício                                                  |NULL         |NULL              |NULL                 |NULL     |NULL          |NULL             |NULL                  |NULL        |NULL|NULL       |NULL                                                                                              |\n",
      "|01191464   |M L G DE AZEVEDO SELF SERVICE                                                  |2135             |50                      |0,00          |05           |2135  |Empresário (Individual)                                              |NULL         |NULL              |NULL                 |NULL     |NULL          |NULL             |RIO DE JANEIRO        |6001        |RJ  |5612100    |Serviços ambulantes de alimentação                                                                |\n",
      "|01191472   |CENTRO DE PROFISSIONAIS ESPECIALIZADOS DE SE. S/C LTDA.                        |2240             |49                      |0,00          |01           |2240  |Sociedade Simples Limitada                                           |NULL         |NULL              |NULL                 |NULL     |NULL          |NULL             |NULL                  |NULL        |NULL|NULL       |NULL                                                                                              |\n",
      "|01191485   |ANTONIO DOS REIS                                                               |2135             |50                      |0,00          |01           |2135  |Empresário (Individual)                                              |NULL         |NULL              |NULL                 |NULL     |NULL          |NULL             |NULL                  |NULL        |NULL|NULL       |NULL                                                                                              |\n",
      "|01191511   |CASA DA SOPA                                                                   |3999             |16                      |0,00          |05           |3999  |Associação Privada                                                   |NULL         |NULL              |NULL                 |NULL     |NULL          |NULL             |RIO VERDE             |9571        |GO  |8800600    |Serviços de assistência social sem alojamento                                                     |\n",
      "|01191533   |CONTAFISC ASSESSORIA CONTABIL, FISCAL E ADM. S/C LTDA.                         |2240             |49                      |0,00          |01           |2240  |Sociedade Simples Limitada                                           |S            |20090101          |00000000             |N        |00000000      |00000000         |NULL                  |NULL        |NULL|NULL       |NULL                                                                                              |\n",
      "|01191565   |JOAO P DE SOUZA ARMAZEN                                                        |2135             |50                      |45000,00      |01           |2135  |Empresário (Individual)                                              |NULL         |NULL              |NULL                 |NULL     |NULL          |NULL             |NULL                  |NULL        |NULL|NULL       |NULL                                                                                              |\n",
      "|01191567   |VERA LUCIA PASSOS VERGARA                                                      |4014             |34                      |0,00          |05           |4014  |Empresa Individual Imobiliária                                       |NULL         |NULL              |NULL                 |NULL     |NULL          |NULL             |NULL                  |NULL        |NULL|NULL       |NULL                                                                                              |\n",
      "|01191580   |MARIA NEIDE NUNES DOS SANTOS                                                   |2135             |50                      |0,00          |05           |2135  |Empresário (Individual)                                              |NULL         |NULL              |NULL                 |NULL     |NULL          |NULL             |NULL                  |NULL        |NULL|NULL       |NULL                                                                                              |\n",
      "|01191584   |ENILSON DAMASIO DA SILVA                                                       |2135             |50                      |0,00          |05           |2135  |Empresário (Individual)                                              |NULL         |NULL              |NULL                 |NULL     |NULL          |NULL             |PALMELO               |9513        |GO  |4781400    |Comércio varejista de artigos do vestuário e acessórios                                           |\n",
      "|01191589   |PARSIFAL TECNOLOGIA DE INFORMACAO LTDA                                         |2062             |49                      |0,00          |01           |2062  |Sociedade Empresária Limitada                                        |NULL         |NULL              |NULL                 |NULL     |NULL          |NULL             |NULL                  |NULL        |NULL|NULL       |NULL                                                                                              |\n",
      "|01191590   |CETI-CENTRO ESPECIALIZADO EM TERAPEUTICA INFANTIL LTDA                         |2062             |49                      |0,00          |05           |2062  |Sociedade Empresária Limitada                                        |NULL         |NULL              |NULL                 |NULL     |NULL          |NULL             |NULL                  |NULL        |NULL|NULL       |NULL                                                                                              |\n",
      "|01191605   |MERCADO AMSTERDAM LTDA                                                         |2062             |49                      |0,00          |05           |2062  |Sociedade Empresária Limitada                                        |NULL         |NULL              |NULL                 |NULL     |NULL          |NULL             |NULL                  |NULL        |NULL|NULL       |NULL                                                                                              |\n",
      "|01191611   |ROSA MACHADO DE MELLO                                                          |2135             |50                      |0,00          |05           |2135  |Empresário (Individual)                                              |NULL         |NULL              |NULL                 |NULL     |NULL          |NULL             |NULL                  |NULL        |NULL|NULL       |NULL                                                                                              |\n",
      "|01191616   |PATRIAL & PATRIAL LTDA                                                         |2062             |49                      |30000,00      |01           |2062  |Sociedade Empresária Limitada                                        |S            |20070701          |00000000             |N        |00000000      |00000000         |NULL                  |NULL        |NULL|NULL       |NULL                                                                                              |\n",
      "|01583144   |M A G SILVEIRA                                                                 |2135             |50                      |0,00          |05           |2135  |Empresário (Individual)                                              |NULL         |NULL              |NULL                 |NULL     |NULL          |NULL             |NULL                  |NULL        |NULL|NULL       |NULL                                                                                              |\n",
      "|01583187   |DOUGLAS MARTINEZ                                                               |2135             |50                      |0,00          |01           |2135  |Empresário (Individual)                                              |NULL         |NULL              |NULL                 |NULL     |NULL          |NULL             |NULL                  |NULL        |NULL|NULL       |NULL                                                                                              |\n",
      "|01583197   |LAGOSTINO COM.E REPRES.LTDA                                                    |2062             |49                      |0,00          |05           |2062  |Sociedade Empresária Limitada                                        |NULL         |NULL              |NULL                 |NULL     |NULL          |NULL             |NULL                  |NULL        |NULL|NULL       |NULL                                                                                              |\n",
      "|01583228   |VIANA & SILVA LTDA                                                             |2062             |49                      |0,00          |05           |2062  |Sociedade Empresária Limitada                                        |NULL         |NULL              |NULL                 |NULL     |NULL          |NULL             |NULL                  |NULL        |NULL|NULL       |NULL                                                                                              |\n",
      "|01583230   |GASPARETE IND.E COM.LTDA                                                       |2062             |49                      |20000,00      |01           |2062  |Sociedade Empresária Limitada                                        |S            |20220101          |00000000             |N        |00000000      |00000000         |NULL                  |NULL        |NULL|NULL       |NULL                                                                                              |\n",
      "|01583245   |J A MASCAGNI                                                                   |2135             |50                      |0,00          |01           |2135  |Empresário (Individual)                                              |S            |20250101          |00000000             |N        |00000000      |00000000         |NULL                  |NULL        |NULL|NULL       |NULL                                                                                              |\n",
      "|01583267   |VICENTE TEODORO LEME RINCAO                                                    |2135             |50                      |0,00          |01           |2135  |Empresário (Individual)                                              |S            |20070701          |00000000             |N        |00000000      |00000000         |NULL                  |NULL        |NULL|NULL       |NULL                                                                                              |\n",
      "|01583304   |CARLOS ALBERTO DRESSADOR                                                       |2135             |50                      |0,00          |05           |2135  |Empresário (Individual)                                              |NULL         |NULL              |NULL                 |NULL     |NULL          |NULL             |NULL                  |NULL        |NULL|NULL       |NULL                                                                                              |\n",
      "|01583314   |CARLOS APARECIDO JULIAO S.J. DO RIO PRETO                                      |2135             |50                      |0,00          |01           |2135  |Empresário (Individual)                                              |S            |20230101          |00000000             |N        |00000000      |00000000         |NULL                  |NULL        |NULL|NULL       |NULL                                                                                              |\n",
      "|01583326   |REGIANE PEREIRA DE MELO                                                        |2135             |50                      |0,00          |01           |2135  |Empresário (Individual)                                              |NULL         |NULL              |NULL                 |NULL     |NULL          |NULL             |NULL                  |NULL        |NULL|NULL       |NULL                                                                                              |\n",
      "|01583330   |CLOVIS DELATORE                                                                |2135             |50                      |0,00          |01           |2135  |Empresário (Individual)                                              |NULL         |NULL              |NULL                 |NULL     |NULL          |NULL             |NULL                  |NULL        |NULL|NULL       |NULL                                                                                              |\n",
      "|01970855   |ITALIAN BAZAR LTDA                                                             |2062             |49                      |0,00          |01           |2062  |Sociedade Empresária Limitada                                        |N            |20070701          |20121231             |N        |00000000      |00000000         |NULL                  |NULL        |NULL|NULL       |NULL                                                                                              |\n",
      "|01970867   |JOAO ESEQUIEL LOURENCO                                                         |2135             |50                      |0,00          |05           |2135  |Empresário (Individual)                                              |NULL         |NULL              |NULL                 |NULL     |NULL          |NULL             |NULL                  |NULL        |NULL|NULL       |NULL                                                                                              |\n",
      "|01970885   |LE REFUGE DES PLEIADES LTDA                                                    |2062             |05                      |20000,00      |01           |2062  |Sociedade Empresária Limitada                                        |S            |20070701          |00000000             |N        |00000000      |00000000         |NULL                  |NULL        |NULL|NULL       |NULL                                                                                              |\n",
      "|01970894   |FLOR NOVIDADES LTDA                                                            |2062             |49                      |1500,00       |01           |2062  |Sociedade Empresária Limitada                                        |S            |20070701          |00000000             |N        |00000000      |00000000         |NULL                  |NULL        |NULL|NULL       |NULL                                                                                              |\n",
      "|01970913   |GRAPHMANIA SERVICOS DE INFORMATICA LTDA                                        |2062             |49                      |0,00          |01           |2062  |Sociedade Empresária Limitada                                        |NULL         |NULL              |NULL                 |NULL     |NULL          |NULL             |NULL                  |NULL        |NULL|NULL       |NULL                                                                                              |\n",
      "|01970915   |AVA COMERCIO DE MATERIAIS PARA CONSTRUCAO LTDA                                 |2062             |49                      |50000,00      |01           |2062  |Sociedade Empresária Limitada                                        |N            |20070701          |20081231             |N        |00000000      |00000000         |SAO JOSE DO RIO PRETO |7097        |SP  |4744099    |Comércio varejista de materiais de construção em geral                                            |\n",
      "|01970964   |TONINHO 40 MOVEIS LTDA                                                         |2062             |49                      |0,00          |01           |2062  |Sociedade Empresária Limitada                                        |NULL         |NULL              |NULL                 |NULL     |NULL          |NULL             |NULL                  |NULL        |NULL|NULL       |NULL                                                                                              |\n",
      "|01970966   |SERGIO E MARCELA BOMBONIERE LTDA                                               |2062             |49                      |0,00          |05           |2062  |Sociedade Empresária Limitada                                        |NULL         |NULL              |NULL                 |NULL     |NULL          |NULL             |NULL                  |NULL        |NULL|NULL       |NULL                                                                                              |\n",
      "|01970979   |ALNASA ALIMENTOS NACIONAIS LTDA                                                |2062             |49                      |0,00          |01           |2062  |Sociedade Empresária Limitada                                        |NULL         |NULL              |NULL                 |NULL     |NULL          |NULL             |NULL                  |NULL        |NULL|NULL       |NULL                                                                                              |\n",
      "|01971023   |MARCIA AMARAL PRESENTES COMERCIO LTDA                                          |2062             |49                      |0,00          |01           |2062  |Sociedade Empresária Limitada                                        |NULL         |NULL              |NULL                 |NULL     |NULL          |NULL             |NULL                  |NULL        |NULL|NULL       |NULL                                                                                              |\n",
      "|02364353   |LEA BENEMANN                                                                   |2135             |50                      |0,00          |01           |2135  |Empresário (Individual)                                              |N            |20070701          |20081231             |N        |00000000      |00000000         |NULL                  |NULL        |NULL|NULL       |NULL                                                                                              |\n",
      "|02364355   |PERFIL SERVICOS DE COBRANCAS S/C LTDA                                          |2240             |28                      |0,00          |05           |2240  |Sociedade Simples Limitada                                           |NULL         |NULL              |NULL                 |NULL     |NULL          |NULL             |NULL                  |NULL        |NULL|NULL       |NULL                                                                                              |\n",
      "|02364362   |NAGIB E TORRONE LTDA                                                           |2062             |49                      |0,00          |05           |2062  |Sociedade Empresária Limitada                                        |NULL         |NULL              |NULL                 |NULL     |NULL          |NULL             |NULL                  |NULL        |NULL|NULL       |NULL                                                                                              |\n",
      "|02364399   |COSTA ASSESSORIA DE COBRANCAS MERCANTIS S/C LTDA                               |2062             |49                      |0,00          |05           |2062  |Sociedade Empresária Limitada                                        |NULL         |NULL              |NULL                 |NULL     |NULL          |NULL             |NULL                  |NULL        |NULL|NULL       |NULL                                                                                              |\n",
      "|02364409   |ANEZIA VICENTINI SCHIZATO DROGARIA                                             |2135             |50                      |0,00          |05           |2135  |Empresário (Individual)                                              |NULL         |NULL              |NULL                 |NULL     |NULL          |NULL             |NULL                  |NULL        |NULL|NULL       |NULL                                                                                              |\n",
      "|02364436   |ZOOTEC SERVICOS E REPRESENTACOES LTDA                                          |2062             |49                      |0,00          |05           |2062  |Sociedade Empresária Limitada                                        |NULL         |NULL              |NULL                 |NULL     |NULL          |NULL             |NULL                  |NULL        |NULL|NULL       |NULL                                                                                              |\n",
      "|02364440   |DISTRIBUIDORA DE BEBIDAS E ALIMENTOS 3 AMIGOS LTDA                             |2062             |49                      |0,00          |05           |2062  |Sociedade Empresária Limitada                                        |NULL         |NULL              |NULL                 |NULL     |NULL          |NULL             |NULL                  |NULL        |NULL|NULL       |NULL                                                                                              |\n",
      "|02364456   |ANAEL COLVERO DIAS                                                             |2135             |50                      |0,00          |01           |2135  |Empresário (Individual)                                              |NULL         |NULL              |NULL                 |NULL     |NULL          |NULL             |NULL                  |NULL        |NULL|NULL       |NULL                                                                                              |\n",
      "|02364466   |MARTA APARECIDA CANDIDO FERREIRA                                               |2135             |50                      |0,00          |05           |2135  |Empresário (Individual)                                              |NULL         |NULL              |NULL                 |NULL     |NULL          |NULL             |PORTO FERREIRA        |6915        |SP  |4781400    |Comércio varejista de artigos do vestuário e acessórios                                           |\n",
      "|02364486   |NELSON NOBREGA SOARES                                                          |2135             |50                      |0,00          |01           |2135  |Empresário (Individual)                                              |NULL         |NULL              |NULL                 |NULL     |NULL          |NULL             |NULL                  |NULL        |NULL|NULL       |NULL                                                                                              |\n",
      "|02364487   |FRANCISCO ALVES SOBRINHO                                                       |2135             |50                      |0,00          |05           |2135  |Empresário (Individual)                                              |NULL         |NULL              |NULL                 |NULL     |NULL          |NULL             |GOIATUBA              |9379        |GO  |4731800    |Comércio varejista de combustíveis para veículos automotores                                      |\n",
      "|02364506   |SOUSAUTO COMERCIO DE AUTOPECAS E SERVICOS AUTOMOTIVOS LTDA                     |2062             |49                      |80000,00      |05           |2062  |Sociedade Empresária Limitada                                        |N            |20250101          |20250101             |N        |00000000      |00000000         |SAO CAETANO DO SUL    |7077        |SP  |4520002    |Serviços de lanternagem ou funilaria e pintura de veículos automotores                            |\n",
      "|02364517   |BELLA VICTORIA PIZZAS LTDA                                                     |2062             |49                      |70000,00      |03           |2062  |Sociedade Empresária Limitada                                        |S            |20070701          |00000000             |N        |00000000      |00000000         |NULL                  |NULL        |NULL|NULL       |NULL                                                                                              |\n",
      "|02755560   |CLUBE DE INVESTIMENTO EM TELECOMUNICACOES CIT A VISTA                          |2224             |43                      |0,00          |05           |2224  |Clube/Fundo de Investimento                                          |NULL         |NULL              |NULL                 |NULL     |NULL          |NULL             |SAO PAULO             |7107        |SP  |6499901    |Clubes de investimento                                                                            |\n",
      "|02755578   |YRAIMA MAZZONI NEGRAO SC LTDA                                                  |2240             |28                      |0,00          |05           |2240  |Sociedade Simples Limitada                                           |NULL         |NULL              |NULL                 |NULL     |NULL          |NULL             |NULL                  |NULL        |NULL|NULL       |NULL                                                                                              |\n",
      "|02755586   |D R DA SILVA - GENEROS ALIMENTICIOS                                            |2135             |50                      |0,00          |01           |2135  |Empresário (Individual)                                              |NULL         |NULL              |NULL                 |NULL     |NULL          |NULL             |NULL                  |NULL        |NULL|NULL       |NULL                                                                                              |\n",
      "|02755587   |M DO S REIS BRITO                                                              |2135             |50                      |10000,00      |01           |2135  |Empresário (Individual)                                              |N            |20070701          |20111231             |N        |00000000      |00000000         |NULL                  |NULL        |NULL|NULL       |NULL                                                                                              |\n",
      "|02755607   |PRESOTTO REPRESENTACAO COMERCIAL LTDA                                          |2062             |49                      |0,00          |01           |2062  |Sociedade Empresária Limitada                                        |NULL         |NULL              |NULL                 |NULL     |NULL          |NULL             |NULL                  |NULL        |NULL|NULL       |NULL                                                                                              |\n",
      "|02755617   |AUTOMEC TRATORES LTDA                                                          |2062             |49                      |0,00          |01           |2062  |Sociedade Empresária Limitada                                        |NULL         |NULL              |NULL                 |NULL     |NULL          |NULL             |NULL                  |NULL        |NULL|NULL       |NULL                                                                                              |\n",
      "|02755620   |LIVRARIA ESPIRITA ADOLFO BEZERRA DE MENEZES LTDA                               |2062             |49                      |0,00          |01           |2062  |Sociedade Empresária Limitada                                        |NULL         |NULL              |NULL                 |NULL     |NULL          |NULL             |NULL                  |NULL        |NULL|NULL       |NULL                                                                                              |\n",
      "|02755651   |KI - BRASAO LTDA                                                               |2062             |49                      |0,00          |01           |2062  |Sociedade Empresária Limitada                                        |NULL         |NULL              |NULL                 |NULL     |NULL          |NULL             |NULL                  |NULL        |NULL|NULL       |NULL                                                                                              |\n",
      "|02755657   |J. F. DOS SANTOS - FRIOS                                                       |2135             |50                      |0,00          |01           |2135  |Empresário (Individual)                                              |N            |20070701          |20081231             |N        |00000000      |00000000         |PINHALAO              |7763        |PR  |4639701    |Comércio atacadista de produtos alimentícios em geral                                             |\n",
      "|02755693   |RICARDO CASSIANO FERREIRA DO PRADO                                             |2135             |50                      |0,00          |05           |2135  |Empresário (Individual)                                              |NULL         |NULL              |NULL                 |NULL     |NULL          |NULL             |NULL                  |NULL        |NULL|NULL       |NULL                                                                                              |\n",
      "|03142215   |CENTRO DE FORMACAO DE CONDUTORES DO VALE DE SAO PATRICIO LTDA                  |2062             |49                      |200000,00     |01           |2062  |Sociedade Empresária Limitada                                        |S            |20100101          |00000000             |N        |00000000      |00000000         |NULL                  |NULL        |NULL|NULL       |NULL                                                                                              |\n",
      "|03142224   |SUPERMERCADO SAO JOSE ITAMONTE LTDA                                            |2062             |49                      |0,00          |01           |2062  |Sociedade Empresária Limitada                                        |N            |20070701          |20100816             |N        |00000000      |00000000         |NULL                  |NULL        |NULL|NULL       |NULL                                                                                              |\n",
      "|03142226   |P. DOS SANTOS SERVICOS TECNICOS                                                |2135             |50                      |0,00          |01           |2135  |Empresário (Individual)                                              |NULL         |NULL              |NULL                 |NULL     |NULL          |NULL             |NULL                  |NULL        |NULL|NULL       |NULL                                                                                              |\n",
      "|03142243   |MARAN INFORMATICA LTDA                                                         |2240             |49                      |1000,00       |01           |2240  |Sociedade Simples Limitada                                           |NULL         |NULL              |NULL                 |NULL     |NULL          |NULL             |NULL                  |NULL        |NULL|NULL       |NULL                                                                                              |\n",
      "|03142244   |M SALOMAO REPRESENTACOES E PROMOCAO ESPORTIVA EIRELI                           |2313             |65                      |78800,00      |01           |2313  |Empresa Individual de Responsabilidade Limitada (de Natureza Simples)|N            |20100101          |20200309             |N        |00000000      |00000000         |NULL                  |NULL        |NULL|NULL       |NULL                                                                                              |\n",
      "|03142279   |MEIO PONTO PRODUCOES E REPORTAGENS LTDA                                        |2062             |49                      |1000,00       |01           |2062  |Sociedade Empresária Limitada                                        |N            |20070701          |20161231             |N        |00000000      |00000000         |NULL                  |NULL        |NULL|NULL       |NULL                                                                                              |\n",
      "|03142287   |E A BOHNE COMERCIO E REPRESENTACOES                                            |2135             |50                      |0,00          |01           |2135  |Empresário (Individual)                                              |NULL         |NULL              |NULL                 |NULL     |NULL          |NULL             |NULL                  |NULL        |NULL|NULL       |NULL                                                                                              |\n",
      "|03142297   |RODRIGO BASAGLIA MAZZIERO                                                      |2135             |50                      |0,00          |05           |2135  |Empresário (Individual)                                              |NULL         |NULL              |NULL                 |NULL     |NULL          |NULL             |NULL                  |NULL        |NULL|NULL       |NULL                                                                                              |\n",
      "|03142300   |LUCINDA DE SOUZA DOS SANTOS                                                    |2135             |50                      |0,00          |01           |2135  |Empresário (Individual)                                              |NULL         |NULL              |NULL                 |NULL     |NULL          |NULL             |NULL                  |NULL        |NULL|NULL       |NULL                                                                                              |\n",
      "|03142319   |NSA INSTALLER EQUIPAMANTOS PARA COMBUSTIVEIS LTDA.                             |2062             |49                      |0,00          |01           |2062  |Sociedade Empresária Limitada                                        |NULL         |NULL              |NULL                 |NULL     |NULL          |NULL             |NULL                  |NULL        |NULL|NULL       |NULL                                                                                              |\n",
      "|03142321   |MERCADO SEGE LTDA                                                              |2062             |49                      |0,00          |05           |2062  |Sociedade Empresária Limitada                                        |NULL         |NULL              |NULL                 |NULL     |NULL          |NULL             |NULL                  |NULL        |NULL|NULL       |NULL                                                                                              |\n",
      "|03142343   |MARIA DA CONCEICAO LEITE CANDIDO                                               |2135             |50                      |0,00          |05           |2135  |Empresário (Individual)                                              |NULL         |NULL              |NULL                 |NULL     |NULL          |NULL             |NULL                  |NULL        |NULL|NULL       |NULL                                                                                              |\n",
      "|03142352   |ASSOCIACAO DOS TRABALHADORES VALE SANTA MARIA                                  |3999             |16                      |0,00          |05           |3999  |Associação Privada                                                   |NULL         |NULL              |NULL                 |NULL     |NULL          |NULL             |PALHANO               |1501        |CE  |9430800    |Atividades de associações de defesa de direitos sociais                                           |\n",
      "|03142356   |TANIA CAMPOS DE AGUIAR                                                         |2135             |50                      |0,00          |01           |2135  |Empresário (Individual)                                              |NULL         |NULL              |NULL                 |NULL     |NULL          |NULL             |NULL                  |NULL        |NULL|NULL       |NULL                                                                                              |\n",
      "|03142389   |BEATRIZ VENTURA DE SOUZA                                                       |2135             |50                      |0,00          |01           |2135  |Empresário (Individual)                                              |NULL         |NULL              |NULL                 |NULL     |NULL          |NULL             |SANTANA DO MANHUACU   |5177        |MG  |1091101    |Fabricação de produtos de panificação industrial                                                  |\n",
      "|03142397   |PANIFICADORA E CONFEITARIA JOFRANCA LTDA                                       |2062             |49                      |0,00          |01           |2062  |Sociedade Empresária Limitada                                        |N            |20070701          |20240829             |N        |00000000      |00000000         |NULL                  |NULL        |NULL|NULL       |NULL                                                                                              |\n",
      "|03142406   |ASSOCIACAO DE PAIS E MESTRES DO CEI/EMEI PROF. APARECIDA MARIA PIRES DE MENESES|3999             |16                      |0,00          |05           |3999  |Associação Privada                                                   |NULL         |NULL              |NULL                 |NULL     |NULL          |NULL             |NULL                  |NULL        |NULL|NULL       |NULL                                                                                              |\n",
      "|03142410   |KAFLEX COMERCIO E REPRESENTACAO DE MOVEIS E EQUIPAMENTOS LTDA                  |2062             |49                      |75000,00      |03           |2062  |Sociedade Empresária Limitada                                        |NULL         |NULL              |NULL                 |NULL     |NULL          |NULL             |NULL                  |NULL        |NULL|NULL       |NULL                                                                                              |\n",
      "|03142417   |SPEEDNET INFORMATICA LTDA                                                      |2062             |49                      |0,00          |05           |2062  |Sociedade Empresária Limitada                                        |NULL         |NULL              |NULL                 |NULL     |NULL          |NULL             |JOAO PESSOA           |2051        |PB  |8299799    |Outras atividades de serviços prestados principalmente às empresas não especificadas anteriormente|\n",
      "|03530630   |MERRILL LYNCH FUNDO DE INVESTIMENTO EM ACOES                                   |2224             |10                      |0,00          |05           |2224  |Clube/Fundo de Investimento                                          |NULL         |NULL              |NULL                 |NULL     |NULL          |NULL             |NULL                  |NULL        |NULL|NULL       |NULL                                                                                              |\n",
      "|03530643   |EMIELE SERVICOS LTDA                                                           |2062             |49                      |412000,00     |01           |2062  |Sociedade Empresária Limitada                                        |N            |20070701          |20211031             |N        |00000000      |00000000         |PARNAMIRIM            |1779        |RN  |6462000    |Holdings de instituições não-financeiras                                                          |\n",
      "|03530655   |VITOR SEMI-JOIAS & CONFECCOES EM GERAL LTDA                                    |2062             |49                      |0,00          |01           |2062  |Sociedade Empresária Limitada                                        |NULL         |NULL              |NULL                 |NULL     |NULL          |NULL             |NULL                  |NULL        |NULL|NULL       |NULL                                                                                              |\n",
      "|03530657   |VANESSA DE ANDRADE ROYO - PATROCINIO PAULISTA                                  |2135             |50                      |0,00          |05           |2135  |Empresário (Individual)                                              |NULL         |NULL              |NULL                 |NULL     |NULL          |NULL             |NULL                  |NULL        |NULL|NULL       |NULL                                                                                              |\n",
      "|03530717   |OLIVEIRA COMERCIO VAREJISTA DE MERCADORIAS LTDA                                |2062             |49                      |30000,00      |01           |2062  |Sociedade Empresária Limitada                                        |S            |20180101          |00000000             |N        |00000000      |00000000         |NULL                  |NULL        |NULL|NULL       |NULL                                                                                              |\n",
      "|03530741   |SONIA MARLY MATOS CARDOSO                                                      |2135             |50                      |0,00          |05           |2135  |Empresário (Individual)                                              |NULL         |NULL              |NULL                 |NULL     |NULL          |NULL             |NULL                  |NULL        |NULL|NULL       |NULL                                                                                              |\n",
      "|03530769   |GISSELIS DA CONCEICAO SILVA LTDA                                               |2062             |49                      |10000,00      |05           |2062  |Sociedade Empresária Limitada                                        |NULL         |NULL              |NULL                 |NULL     |NULL          |NULL             |NULL                  |NULL        |NULL|NULL       |NULL                                                                                              |\n",
      "|03530795   |CONDOMINIO DO EDIFCIO HILARIO MARTINEZ                                         |3085             |19                      |0,00          |05           |3085  |Condomínio Edilício                                                  |NULL         |NULL              |NULL                 |NULL     |NULL          |NULL             |NULL                  |NULL        |NULL|NULL       |NULL                                                                                              |\n",
      "|03530805   |LA NA MODINHA LTDA                                                             |2062             |49                      |0,00          |05           |2062  |Sociedade Empresária Limitada                                        |NULL         |NULL              |NULL                 |NULL     |NULL          |NULL             |CUIABA                |9067        |MT  |8888888    |Atividade Econônica não informada                                                                 |\n",
      "|03530814   |IVONALDO R DA SILVA CHARQUEADA                                                 |2135             |50                      |1000,00       |01           |2135  |Empresário (Individual)                                              |N            |20120101          |20180201             |N        |20130101      |20180201         |NULL                  |NULL        |NULL|NULL       |NULL                                                                                              |\n",
      "|03530831   |MARIA APARECIDA BUENO DA SILVA                                                 |2135             |50                      |0,00          |01           |2135  |Empresário (Individual)                                              |NULL         |NULL              |NULL                 |NULL     |NULL          |NULL             |NULL                  |NULL        |NULL|NULL       |NULL                                                                                              |\n",
      "|03530835   |JOAO SILVA                                                                     |2135             |50                      |0,00          |01           |2135  |Empresário (Individual)                                              |NULL         |NULL              |NULL                 |NULL     |NULL          |NULL             |NULL                  |NULL        |NULL|NULL       |NULL                                                                                              |\n",
      "|03916787   |REPRESENTACOES 2357 LTDA                                                       |2062             |49                      |0,00          |05           |2062  |Sociedade Empresária Limitada                                        |NULL         |NULL              |NULL                 |NULL     |NULL          |NULL             |NULL                  |NULL        |NULL|NULL       |NULL                                                                                              |\n",
      "|03916830   |EZIARONE MOREIRA DOS SANTOS                                                    |2135             |50                      |0,00          |05           |2135  |Empresário (Individual)                                              |NULL         |NULL              |NULL                 |NULL     |NULL          |NULL             |BARRA DO GARCAS       |9035        |MT  |5829800    |Edição integrada à impressão de cadastros, listas e de outros produtos gráficos                   |\n",
      "|03916842   |I C BARBOSA FEIRA DE MODAS E UTILIDADES DO LAR                                 |2135             |50                      |0,00          |01           |2135  |Empresário (Individual)                                              |S            |20070701          |00000000             |N        |00000000      |00000000         |NULL                  |NULL        |NULL|NULL       |NULL                                                                                              |\n",
      "|03916845   |LUIZ FELIPE MATZENBACHER DE SOUZA                                              |2135             |50                      |0,00          |01           |2135  |Empresário (Individual)                                              |NULL         |NULL              |NULL                 |NULL     |NULL          |NULL             |NULL                  |NULL        |NULL|NULL       |NULL                                                                                              |\n",
      "|03916852   |A CASA DA FAMILIA HORN DECORACOES LTDA                                         |2062             |49                      |0,00          |05           |2062  |Sociedade Empresária Limitada                                        |NULL         |NULL              |NULL                 |NULL     |NULL          |NULL             |CURITIBA              |7535        |PR  |1629301    |Fabricação de artefatos diversos de madeira, exceto móveis                                        |\n",
      "|03916864   |PARADISE CONSERVACAO E LIMPEZA LTDA                                            |2062             |49                      |0,00          |01           |2062  |Sociedade Empresária Limitada                                        |S            |20240101          |00000000             |N        |00000000      |00000000         |NULL                  |NULL        |NULL|NULL       |NULL                                                                                              |\n",
      "|03916884   |LEMOS SANTANA REPRESENTACOES COMERCIAIS LTDA                                   |2062             |49                      |0,00          |05           |2062  |Sociedade Empresária Limitada                                        |NULL         |NULL              |NULL                 |NULL     |NULL          |NULL             |NULL                  |NULL        |NULL|NULL       |NULL                                                                                              |\n",
      "|03916920   |ANA R. TORRES                                                                  |2135             |50                      |0,00          |05           |2135  |Empresário (Individual)                                              |NULL         |NULL              |NULL                 |NULL     |NULL          |NULL             |NULL                  |NULL        |NULL|NULL       |NULL                                                                                              |\n",
      "|03916921   |SUZI MARIA DE SOUZA                                                            |2135             |50                      |0,00          |01           |2135  |Empresário (Individual)                                              |NULL         |NULL              |NULL                 |NULL     |NULL          |NULL             |NULL                  |NULL        |NULL|NULL       |NULL                                                                                              |\n",
      "|03916923   |KRAYCHETE - DESENVOLVIMENTO DE NEGOCIOS & PARTICIPACOES LTDA                   |2062             |49                      |0,00          |01           |2062  |Sociedade Empresária Limitada                                        |NULL         |NULL              |NULL                 |NULL     |NULL          |NULL             |SALVADOR              |3849        |BA  |7020400    |Atividades de consultoria em gestão empresarial, exceto consultoria técnica específica            |\n",
      "|03916924   |VIRTUALTECH INFORMATICA LTDA                                                   |2062             |49                      |0,00          |01           |2062  |Sociedade Empresária Limitada                                        |N            |20070701          |20130603             |N        |00000000      |00000000         |NULL                  |NULL        |NULL|NULL       |NULL                                                                                              |\n",
      "|03916936   |J. M. ENGENHARIA, PROJETOS E INSTALACOES ELETRICAS LTDA                        |2062             |49                      |15000,00      |01           |2062  |Sociedade Empresária Limitada                                        |S            |20220101          |00000000             |N        |00000000      |00000000         |NULL                  |NULL        |NULL|NULL       |NULL                                                                                              |\n",
      "|03916968   |COMISSAO PROVISORIA MUNICIPAL DE DR. CAMARGO, DO PARTIDO SOCIAL LIBERAL        |3999             |16                      |0,00          |05           |3999  |Associação Privada                                                   |NULL         |NULL              |NULL                 |NULL     |NULL          |NULL             |NULL                  |NULL        |NULL|NULL       |NULL                                                                                              |\n",
      "|03916983   |ASSOCIACAO DE ASSISTENCIA SOCIAL O SEMEADOR                                    |3999             |16                      |0,00          |05           |3999  |Associação Privada                                                   |NULL         |NULL              |NULL                 |NULL     |NULL          |NULL             |NULL                  |NULL        |NULL|NULL       |NULL                                                                                              |\n",
      "|04303286   |ANTONIO LUIZ PIRES NETO                                                        |2135             |50                      |0,00          |01           |2135  |Empresário (Individual)                                              |N            |20070701          |20080929             |N        |00000000      |00000000         |NULL                  |NULL        |NULL|NULL       |NULL                                                                                              |\n",
      "|04303298   |MANZI & MESQUITA LTDA.                                                         |2062             |49                      |0,00          |05           |2062  |Sociedade Empresária Limitada                                        |NULL         |NULL              |NULL                 |NULL     |NULL          |NULL             |NULL                  |NULL        |NULL|NULL       |NULL                                                                                              |\n",
      "|04303340   |ESTILO JOIAS JOALHERIA E RELOJOARIA LTDA                                       |2062             |49                      |52000,00      |01           |2062  |Sociedade Empresária Limitada                                        |S            |20070701          |00000000             |N        |00000000      |00000000         |NULL                  |NULL        |NULL|NULL       |NULL                                                                                              |\n",
      "|04303347   |CONDOMINIO DA CHACARA 211 DA COLONIA AGRICOLA VICENTE PIRES                    |3085             |19                      |0,00          |05           |3085  |Condomínio Edilício                                                  |NULL         |NULL              |NULL                 |NULL     |NULL          |NULL             |NULL                  |NULL        |NULL|NULL       |NULL                                                                                              |\n",
      "|04303357   |DECANDIDO SONORIZACOES E EVENTOS LTDA                                          |2062             |49                      |72400,00      |01           |2062  |Sociedade Empresária Limitada                                        |N            |20070701          |20221231             |N        |00000000      |00000000         |NULL                  |NULL        |NULL|NULL       |NULL                                                                                              |\n",
      "|04303370   |FAMILY CENTER VIDEO LTDA                                                       |2062             |49                      |0,00          |05           |2062  |Sociedade Empresária Limitada                                        |NULL         |NULL              |NULL                 |NULL     |NULL          |NULL             |NULL                  |NULL        |NULL|NULL       |NULL                                                                                              |\n",
      "|04303384   |ASSOSSIACAO DOS DETETIVES PARTICULARES DO SUL DO PARA                          |3999             |16                      |0,00          |05           |3999  |Associação Privada                                                   |NULL         |NULL              |NULL                 |NULL     |NULL          |NULL             |NULL                  |NULL        |NULL|NULL       |NULL                                                                                              |\n",
      "|04303395   |SCHNEM & CIA LTDA                                                              |2062             |49                      |20000,00      |01           |2062  |Sociedade Empresária Limitada                                        |NULL         |NULL              |NULL                 |NULL     |NULL          |NULL             |NULL                  |NULL        |NULL|NULL       |NULL                                                                                              |\n",
      "|04303406   |SERVICO NACIONAL DE APRENDIZAGEM RURAL SENAR AR/RS                             |3077             |05                      |0,00          |05           |3077  |Serviço Social Autônomo                                              |NULL         |NULL              |NULL                 |NULL     |NULL          |NULL             |NULL                  |NULL        |NULL|NULL       |NULL                                                                                              |\n",
      "|04303418   |IGREJA BATISTA MEMORIAL DO PARQUE DAS LARANJEIRAS                              |3999             |16                      |0,00          |05           |3999  |Associação Privada                                                   |NULL         |NULL              |NULL                 |NULL     |NULL          |NULL             |NULL                  |NULL        |NULL|NULL       |NULL                                                                                              |\n",
      "|04303436   |OMNIS CONSTRUTORA E INCORPORADORA LTDA                                         |2062             |49                      |0,00          |01           |2062  |Sociedade Empresária Limitada                                        |NULL         |NULL              |NULL                 |NULL     |NULL          |NULL             |NULL                  |NULL        |NULL|NULL       |NULL                                                                                              |\n",
      "|04303441   |DULCINEIA GOMES DA SILVA                                                       |2135             |50                      |0,00          |05           |2135  |Empresário (Individual)                                              |NULL         |NULL              |NULL                 |NULL     |NULL          |NULL             |NULL                  |NULL        |NULL|NULL       |NULL                                                                                              |\n",
      "|04303444   |NADITUR TURISMO LTDA                                                           |2062             |49                      |0,00          |01           |2062  |Sociedade Empresária Limitada                                        |NULL         |NULL              |NULL                 |NULL     |NULL          |NULL             |NULL                  |NULL        |NULL|NULL       |NULL                                                                                              |\n",
      "|04303456   |CARLOS YUKISHIGUE SHIROMA                                                      |2135             |50                      |30000,00      |01           |2135  |Empresário (Individual)                                              |S            |20220101          |00000000             |N        |00000000      |00000000         |NULL                  |NULL        |NULL|NULL       |NULL                                                                                              |\n",
      "|04303459   |IATE CLUBE DE MARABA                                                           |3999             |16                      |0,00          |05           |3999  |Associação Privada                                                   |NULL         |NULL              |NULL                 |NULL     |NULL          |NULL             |NULL                  |NULL        |NULL|NULL       |NULL                                                                                              |\n",
      "|04303464   |APALUZA CORRETORA DE SEGURO DE VIDA S/C LTDA                                   |2240             |49                      |0,00          |05           |2240  |Sociedade Simples Limitada                                           |NULL         |NULL              |NULL                 |NULL     |NULL          |NULL             |NULL                  |NULL        |NULL|NULL       |NULL                                                                                              |\n",
      "|04303469   |VALDENEY LOPES CORDEIRO                                                        |2135             |50                      |0,00          |01           |2135  |Empresário (Individual)                                              |NULL         |NULL              |NULL                 |NULL     |NULL          |NULL             |NULL                  |NULL        |NULL|NULL       |NULL                                                                                              |\n",
      "|04303478   |CONFECCOES CATRY LTDA                                                          |2062             |49                      |0,00          |05           |2062  |Sociedade Empresária Limitada                                        |NULL         |NULL              |NULL                 |NULL     |NULL          |NULL             |NULL                  |NULL        |NULL|NULL       |NULL                                                                                              |\n",
      "|04303487   |SILVA & SILVA TECIDOS LTDA                                                     |2062             |49                      |0,00          |01           |2062  |Sociedade Empresária Limitada                                        |NULL         |NULL              |NULL                 |NULL     |NULL          |NULL             |NULL                  |NULL        |NULL|NULL       |NULL                                                                                              |\n",
      "|00000004   |ASSOCIACAO DO PEQUENO ADOLECENTE DO CONJ PAULISTANO                            |3999             |16                      |0,00          |05           |3999  |Associação Privada                                                   |NULL         |NULL              |NULL                 |NULL     |NULL          |NULL             |NULL                  |NULL        |NULL|NULL       |NULL                                                                                              |\n",
      "|00000043   |IGREJA EVANGELICA ASSEMBLEIA DE DEUS CHAVE DE DAVI                             |3999             |16                      |0,00          |05           |3999  |Associação Privada                                                   |NULL         |NULL              |NULL                 |NULL     |NULL          |NULL             |NULL                  |NULL        |NULL|NULL       |NULL                                                                                              |\n",
      "|00000051   |ASSOCIACAO DOS AMIGOS UM MUNDO MELHORDO CONJ PAULISTANO                        |3999             |16                      |0,00          |05           |3999  |Associação Privada                                                   |NULL         |NULL              |NULL                 |NULL     |NULL          |NULL             |NULL                  |NULL        |NULL|NULL       |NULL                                                                                              |\n",
      "|00000062   |CENTRO DE RECREACAO INFANTIL GRILINHO S/C.LTDA.                                |2240             |28                      |0,00          |05           |2240  |Sociedade Simples Limitada                                           |NULL         |NULL              |NULL                 |NULL     |NULL          |NULL             |NULL                  |NULL        |NULL|NULL       |NULL                                                                                              |\n",
      "|00000070   |NELSON ROBERTO VALINI                                                          |2135             |50                      |3600,00       |01           |2135  |Empresário (Individual)                                              |NULL         |NULL              |NULL                 |NULL     |NULL          |NULL             |NULL                  |NULL        |NULL|NULL       |NULL                                                                                              |\n",
      "|00000088   |TENDA DE UMBANDA DE INHASA JD VISTA ALEGRE                                     |3999             |16                      |0,00          |05           |3999  |Associação Privada                                                   |NULL         |NULL              |NULL                 |NULL     |NULL          |NULL             |NULL                  |NULL        |NULL|NULL       |NULL                                                                                              |\n",
      "|00000094   |SELIC SERV ESPECIALIZADOS DE LIMPEZA INDL COML S/C LTDA                        |2240             |28                      |0,00          |05           |2240  |Sociedade Simples Limitada                                           |NULL         |NULL              |NULL                 |NULL     |NULL          |NULL             |NULL                  |NULL        |NULL|NULL       |NULL                                                                                              |\n",
      "|00000108   |NEUMAN'S CONSULTORIA EM COMERCIO EXTERIOR LTDA                                 |2062             |49                      |1091,00       |05           |2062  |Sociedade Empresária Limitada                                        |S            |20150101          |00000000             |N        |00000000      |00000000         |NULL                  |NULL        |NULL|NULL       |NULL                                                                                              |\n",
      "|00000118   |GOLD-DIMENSAO ELETRICIDADE, ENGENHARIA E COMERCIO LTDA                         |2062             |49                      |0,00          |05           |2062  |Sociedade Empresária Limitada                                        |NULL         |NULL              |NULL                 |NULL     |NULL          |NULL             |NULL                  |NULL        |NULL|NULL       |NULL                                                                                              |\n",
      "|00000141   |GLOBAL ADMINISTRACAO DE BENS LTDA                                              |2062             |49                      |0,00          |05           |2062  |Sociedade Empresária Limitada                                        |NULL         |NULL              |NULL                 |NULL     |NULL          |NULL             |BRASILIA              |9701        |DF  |8888888    |Atividade Econônica não informada                                                                 |\n",
      "|00000161   |DALLA'S MANUTENCAO DE VEICULOS LTDA                                            |2240             |49                      |0,00          |05           |2240  |Sociedade Simples Limitada                                           |NULL         |NULL              |NULL                 |NULL     |NULL          |NULL             |NULL                  |NULL        |NULL|NULL       |NULL                                                                                              |\n",
      "|00000167   |CONDOMINIO EDIFICIO PLAZA CITY AMERICA                                         |3085             |19                      |0,00          |05           |3085  |Condomínio Edilício                                                  |NULL         |NULL              |NULL                 |NULL     |NULL          |NULL             |NULL                  |NULL        |NULL|NULL       |NULL                                                                                              |\n",
      "|00000194   |RUSH MOTOS S/C LTDA                                                            |2240             |49                      |0,00          |01           |2240  |Sociedade Simples Limitada                                           |S            |20070701          |00000000             |N        |00000000      |00000000         |NULL                  |NULL        |NULL|NULL       |NULL                                                                                              |\n",
      "|00414488   |JOSE TARCILIO FERREIRA DA SILVA                                                |2135             |50                      |0,00          |01           |2135  |Empresário (Individual)                                              |NULL         |NULL              |NULL                 |NULL     |NULL          |NULL             |NULL                  |NULL        |NULL|NULL       |NULL                                                                                              |\n",
      "|00414505   |GEOTEC IND E COMERCIO DE PRODUTOS CERAMICOS LTDA                               |2062             |49                      |0,00          |05           |2062  |Sociedade Empresária Limitada                                        |NULL         |NULL              |NULL                 |NULL     |NULL          |NULL             |PIRACICABA            |6875        |SP  |2349499    |Fabricação de produtos cerâmicos não-refratários não especificados anteriormente                  |\n",
      "|00414520   |TONINHO COMERCIO VAREJISTA LTDA                                                |2062             |49                      |0,00          |01           |2062  |Sociedade Empresária Limitada                                        |N            |20070701          |20081231             |N        |00000000      |00000000         |NULL                  |NULL        |NULL|NULL       |NULL                                                                                              |\n",
      "|00414521   |LUCI ROSANA BRAGA                                                              |2135             |50                      |0,00          |01           |2135  |Empresário (Individual)                                              |NULL         |NULL              |NULL                 |NULL     |NULL          |NULL             |NULL                  |NULL        |NULL|NULL       |NULL                                                                                              |\n",
      "|00414558   |WORK EXPRESS MAO DE OBRA TEMPORARIA LTDA                                       |2062             |49                      |0,00          |05           |2062  |Sociedade Empresária Limitada                                        |NULL         |NULL              |NULL                 |NULL     |NULL          |NULL             |NULL                  |NULL        |NULL|NULL       |NULL                                                                                              |\n",
      "|00414623   |JOAO ALVES DA SILVA                                                            |2135             |50                      |0,00          |01           |2135  |Empresário (Individual)                                              |NULL         |NULL              |NULL                 |NULL     |NULL          |NULL             |NULL                  |NULL        |NULL|NULL       |NULL                                                                                              |\n",
      "|00414630   |EUROPE STAR COMERCIAL LTDA                                                     |2062             |49                      |1500000,00    |05           |2062  |Sociedade Empresária Limitada                                        |S            |20160101          |00000000             |N        |00000000      |00000000         |NULL                  |NULL        |NULL|NULL       |NULL                                                                                              |\n",
      "|00414635   |HDP PUBLICIDADE E PROPAGANDA LTDA                                              |2062             |49                      |0,00          |05           |2062  |Sociedade Empresária Limitada                                        |NULL         |NULL              |NULL                 |NULL     |NULL          |NULL             |NULL                  |NULL        |NULL|NULL       |NULL                                                                                              |\n",
      "|00414652   |RECAPP COMERCIO DE PARAFUSOS E FERRAMENTAS LTDA                                |2062             |49                      |30000,00      |01           |2062  |Sociedade Empresária Limitada                                        |S            |20070701          |00000000             |N        |00000000      |00000000         |NULL                  |NULL        |NULL|NULL       |NULL                                                                                              |\n",
      "|00802668   |ROCHA PROJETOS LTDA                                                            |2062             |49                      |0,00          |05           |2062  |Sociedade Empresária Limitada                                        |NULL         |NULL              |NULL                 |NULL     |NULL          |NULL             |RECIFE                |2531        |PE  |7490103    |Serviços de agronomia e de consultoria às atividades agrícolas e pecuárias                        |\n",
      "|00802669   |COMERCIO INDUSTRIA E DISTRIBUIDORA BRENIURY LTDA                               |2062             |49                      |0,00          |05           |2062  |Sociedade Empresária Limitada                                        |NULL         |NULL              |NULL                 |NULL     |NULL          |NULL             |NULL                  |NULL        |NULL|NULL       |NULL                                                                                              |\n",
      "|00802683   |G L DE MEDEIROS                                                                |2135             |50                      |0,00          |05           |2135  |Empresário (Individual)                                              |NULL         |NULL              |NULL                 |NULL     |NULL          |NULL             |NULL                  |NULL        |NULL|NULL       |NULL                                                                                              |\n",
      "|00802701   |AGRO PECUARIA BATISTA FERREIRA LTDA                                            |2062             |49                      |0,00          |05           |2062  |Sociedade Empresária Limitada                                        |NULL         |NULL              |NULL                 |NULL     |NULL          |NULL             |NULL                  |NULL        |NULL|NULL       |NULL                                                                                              |\n",
      "|00802716   |ASSOC PROP SIST RESIDENCE PHONE COND ED PENSILVANIAI II                        |3999             |16                      |0,00          |05           |3999  |Associação Privada                                                   |NULL         |NULL              |NULL                 |NULL     |NULL          |NULL             |NULL                  |NULL        |NULL|NULL       |NULL                                                                                              |\n",
      "|00802738   |CASSIO LIBERO GIRARDI                                                          |2135             |50                      |0,00          |05           |2135  |Empresário (Individual)                                              |NULL         |NULL              |NULL                 |NULL     |NULL          |NULL             |NULL                  |NULL        |NULL|NULL       |NULL                                                                                              |\n",
      "|00802784   |HARD DRIVE INFORMATICA LTDA                                                    |2062             |49                      |0,00          |05           |2062  |Sociedade Empresária Limitada                                        |NULL         |NULL              |NULL                 |NULL     |NULL          |NULL             |NULL                  |NULL        |NULL|NULL       |NULL                                                                                              |\n",
      "|00802846   |MARILZA LOPES DA SILVA                                                         |2135             |50                      |0,00          |05           |2135  |Empresário (Individual)                                              |NULL         |NULL              |NULL                 |NULL     |NULL          |NULL             |NULL                  |NULL        |NULL|NULL       |NULL                                                                                              |\n",
      "|01191430   |SALESIO SOMMER                                                                 |2135             |50                      |0,00          |05           |2135  |Empresário (Individual)                                              |NULL         |NULL              |NULL                 |NULL     |NULL          |NULL             |NULL                  |NULL        |NULL|NULL       |NULL                                                                                              |\n",
      "|01191433   |JOSE CARLOS AZEVEDO                                                            |2135             |50                      |0,00          |05           |2135  |Empresário (Individual)                                              |NULL         |NULL              |NULL                 |NULL     |NULL          |NULL             |NULL                  |NULL        |NULL|NULL       |NULL                                                                                              |\n",
      "|01191443   |MATUSALEN A. DE ANDRADE                                                        |2135             |50                      |0,00          |01           |2135  |Empresário (Individual)                                              |NULL         |NULL              |NULL                 |NULL     |NULL          |NULL             |NULL                  |NULL        |NULL|NULL       |NULL                                                                                              |\n",
      "|01191450   |ASSOCIACAO DOS BROD.RURAIS DA BARRIGUDA DOS LUIZ E LIMA                        |3999             |16                      |0,00          |05           |3999  |Associação Privada                                                   |NULL         |NULL              |NULL                 |NULL     |NULL          |NULL             |NULL                  |NULL        |NULL|NULL       |NULL                                                                                              |\n",
      "|01191454   |JCS CONSTRUTORA LTDA                                                           |2062             |49                      |1000000,00    |01           |2062  |Sociedade Empresária Limitada                                        |NULL         |NULL              |NULL                 |NULL     |NULL          |NULL             |NULL                  |NULL        |NULL|NULL       |NULL                                                                                              |\n",
      "+-----------+-------------------------------------------------------------------------------+-----------------+------------------------+--------------+-------------+------+---------------------------------------------------------------------+-------------+------------------+---------------------+---------+--------------+-----------------+----------------------+------------+----+-----------+--------------------------------------------------------------------------------------------------+\n",
      "only showing top 200 rows\n"
     ]
    }
   ],
   "source": [
    "df_trusted.show()"
   ]
  },
  {
   "cell_type": "markdown",
   "id": "97b5fd30-f5cf-486e-b00b-00fab1c22741",
   "metadata": {},
   "source": [
    "                                                    SALVANDO O TRUSTED"
   ]
  },
  {
   "cell_type": "code",
   "execution_count": 24,
   "id": "13c19e1e-23fc-44d1-98d0-cf2c9d1a8b04",
   "metadata": {},
   "outputs": [],
   "source": [
    "df_trusted.write.format(\"delta\") \\\n",
    "    .mode(\"overwrite\") \\\n",
    "    .save(r\"C:\\Users\\ResTIC16\\Documents\\IBGE_PROJETO\\datawarehouse_ibge\\data\\TRS\\empresas\")"
   ]
  },
  {
   "cell_type": "code",
   "execution_count": null,
   "id": "b819406c-ec80-4414-b207-44cf8e053642",
   "metadata": {},
   "outputs": [],
   "source": []
  }
 ],
 "metadata": {
  "kernelspec": {
   "display_name": "Python 3 (ipykernel)",
   "language": "python",
   "name": "python3"
  },
  "language_info": {
   "codemirror_mode": {
    "name": "ipython",
    "version": 3
   },
   "file_extension": ".py",
   "mimetype": "text/x-python",
   "name": "python",
   "nbconvert_exporter": "python",
   "pygments_lexer": "ipython3",
   "version": "3.10.11"
  }
 },
 "nbformat": 4,
 "nbformat_minor": 5
}
