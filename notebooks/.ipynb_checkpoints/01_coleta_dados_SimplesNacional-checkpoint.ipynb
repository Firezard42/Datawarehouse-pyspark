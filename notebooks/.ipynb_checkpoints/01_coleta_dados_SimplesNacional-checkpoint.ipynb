{
 "cells": [
  {
   "cell_type": "code",
   "execution_count": 1,
   "id": "9b7f1db2-261b-45fe-ba5d-fec1da6ac768",
   "metadata": {},
   "outputs": [],
   "source": [
    "import findspark    # findspark ajuda o Python a localizar a instalação do Spark em notebooks como o Jupyter\n",
    "findspark.init()  #permite que você use o pyspark no seu ambiente mesmo que o spark tenha sido instalado separadamente."
   ]
  },
  {
   "cell_type": "code",
   "execution_count": 2,
   "id": "b7e02595-78cc-489a-8b28-ee1c2a243e29",
   "metadata": {},
   "outputs": [],
   "source": [
    "import requests\n",
    "import os\n",
    "import zipfile\n",
    "from datetime import datetime\n",
    "import traceback"
   ]
  },
  {
   "cell_type": "code",
   "execution_count": 3,
   "id": "59f91580-c2a4-465c-bd51-69713e2cb9f5",
   "metadata": {},
   "outputs": [],
   "source": [
    "url = 'https://arquivos.receitafederal.gov.br/dados/cnpj/dados_abertos_cnpj/2025-06/Simples.zip'"
   ]
  },
  {
   "cell_type": "code",
   "execution_count": 4,
   "id": "2db7f2a5-898c-4492-97a5-cfad9f724071",
   "metadata": {},
   "outputs": [],
   "source": [
    "data_hoje = datetime.now().strftime('%y-%m-%d')\n",
    "pasta = r\"C:\\Users\\ResTIC16\\Documents\\IBGE_PROJETO\\datawarehouse_ibge\\data\\LND\"\n",
    "arquivo_zip = os.path.join(pasta, f'simples_{data_hoje}.zip')\n",
    "arquivo_saida = os.path.join(pasta, f'simples_{data_hoje}.csv')"
   ]
  },
  {
   "cell_type": "code",
   "execution_count": 5,
   "id": "7adeb61c-7ad5-4439-b4ce-0ff39ce7c9b9",
   "metadata": {},
   "outputs": [],
   "source": [
    "os.makedirs(pasta,exist_ok=True)"
   ]
  },
  {
   "cell_type": "code",
   "execution_count": 6,
   "id": "66659fc1-f773-4a00-b789-409ce77f260b",
   "metadata": {},
   "outputs": [
    {
     "name": "stdout",
     "output_type": "stream",
     "text": [
      "Iniciando download...\n",
      "Download concluído. Tamanho: 0.02 MB\n",
      "Arquivo ZIP salvo: C:\\Users\\ResTIC16\\Documents\\IBGE_PROJETO\\datawarehouse_ibge\\data\\LND\\CNAE_25-07-16.zip\n",
      "Conteúdo do ZIP:\n",
      "  1. F.K03200$Z.D50614.CNAECSV\n",
      "Processando arquivo: F.K03200$Z.D50614.CNAECSV\n",
      "Convertendo codificação...\n",
      "Conversão concluída. Arquivo CSV salvo em: C:\\Users\\ResTIC16\\Documents\\IBGE_PROJETO\\datawarehouse_ibge\\data\\LND\\CNAE_25-07-16.csv\n",
      "Arquivo ZIP removido: C:\\Users\\ResTIC16\\Documents\\IBGE_PROJETO\\datawarehouse_ibge\\data\\LND\\CNAE_25-07-16.zip\n"
     ]
    }
   ],
   "source": [
    "try:\n",
    "    print(\"Iniciando download...\")\n",
    "    response = requests.get(url, timeout=30)\n",
    "    response.raise_for_status()\n",
    "    print(f\"Download concluído. Tamanho: {len(response.content) / (1024*1024):.2f} MB\")\n",
    "\n",
    "    with open(arquivo_zip, 'wb') as f:\n",
    "        f.write(response.content)\n",
    "    print(f\"Arquivo ZIP salvo: {arquivo_zip}\")\n",
    "\n",
    "    with zipfile.ZipFile(arquivo_zip) as zip_ref:\n",
    "        print(\"Conteúdo do ZIP:\")\n",
    "        for i, name in enumerate(zip_ref.namelist()):\n",
    "            print(f\"  {i+1}. {name}\")\n",
    "        \n",
    "        # CORREÇÃO: Busca por arquivo com padrão da Receita Federal\n",
    "        csv_files = [n for n in zip_ref.namelist() if 'CNAECSV' in n]\n",
    "        \n",
    "        if not csv_files:\n",
    "            raise ValueError(\"Nenhum arquivo CNAECSV encontrado no ZIP\")\n",
    "        \n",
    "        csv_name = csv_files[0]\n",
    "        print(f\"Processando arquivo: {csv_name}\")\n",
    "\n",
    "        with zip_ref.open(csv_name) as csv_file, \\\n",
    "             open(arquivo_saida, 'w', encoding='utf-8') as output_csv:\n",
    "            \n",
    "            print(\"Convertendo codificação...\")\n",
    "            for i, line in enumerate(csv_file):\n",
    "                try:\n",
    "                    decoded_line = line.decode('latin1')\n",
    "                    output_csv.write(decoded_line)\n",
    "                except UnicodeDecodeError:\n",
    "                    decoded_line = line.decode('utf-8', errors='replace')\n",
    "                    output_csv.write(decoded_line)\n",
    "                \n",
    "                # Exibe progresso a cada 500 mil linhas\n",
    "                if i % 500000 == 0 and i > 0:\n",
    "                    print(f\"Linhas processadas: {i}\")\n",
    "    \n",
    "    print(f\"Conversão concluída. Arquivo CSV salvo em: {arquivo_saida}\")\n",
    "    \n",
    "    # Remove o ZIP após extração\n",
    "    os.remove(arquivo_zip)\n",
    "    print(f\"Arquivo ZIP removido: {arquivo_zip}\")\n",
    "\n",
    "except Exception as erro:\n",
    "    error_details = traceback.format_exc()\n",
    "    print(f\"\\nERRO DETALHADO:\\n{error_details}\")\n",
    "    print(f\"\\nERRO: {erro}\")"
   ]
  },
  {
   "cell_type": "code",
   "execution_count": null,
   "id": "0b5b99f2-d793-4893-97b3-293dd0147928",
   "metadata": {},
   "outputs": [],
   "source": []
  },
  {
   "cell_type": "code",
   "execution_count": null,
   "id": "56b4307f-2a59-46d0-93a7-2276f669c95f",
   "metadata": {},
   "outputs": [],
   "source": []
  }
 ],
 "metadata": {
  "kernelspec": {
   "display_name": "Python 3 (ipykernel)",
   "language": "python",
   "name": "python3"
  },
  "language_info": {
   "codemirror_mode": {
    "name": "ipython",
    "version": 3
   },
   "file_extension": ".py",
   "mimetype": "text/x-python",
   "name": "python",
   "nbconvert_exporter": "python",
   "pygments_lexer": "ipython3",
   "version": "3.10.11"
  }
 },
 "nbformat": 4,
 "nbformat_minor": 5
}
